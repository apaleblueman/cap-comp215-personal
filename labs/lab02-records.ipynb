{
  "nbformat": 4,
  "nbformat_minor": 0,
  "metadata": {
    "colab": {
      "name": "Lab2-NEO.ipynb",
      "provenance": [],
      "include_colab_link": true
    },
    "kernelspec": {
      "name": "python3",
      "language": "python",
      "display_name": "Python 3 (ipykernel)"
    },
    "language_info": {
      "name": "python"
    }
  },
  "cells": [
    {
      "cell_type": "markdown",
      "metadata": {
        "id": "view-in-github",
        "colab_type": "text"
      },
      "source": [
        "<a href=\"https://colab.research.google.com/github/apaleblueman/cap-comp215-personal/blob/main/labs/lab02-records.ipynb\" target=\"_parent\"><img src=\"https://colab.research.google.com/assets/colab-badge.svg\" alt=\"Open In Colab\"/></a>"
      ]
    },
    {
      "cell_type": "markdown",
      "source": [
        "COMP 215 - LAB 2 Records (NEO)\n",
        "----------------\n",
        "#### Name:\n",
        "#### Date:\n",
        "\n",
        "This lab exercise is mostly a review of strings, tuples, lists, dictionaries, and functions.\n",
        "\n",
        "**Building on new concepts from lab 1**:\n",
        "  * `datetime.date` objects represent a calendar date\n",
        "  * *list comprehension* provides a compact way to represent map and filter algorithms\n",
        "\n",
        "**New Python Concepts**:\n",
        "  * *f-string* simplifies string formatting operations\n",
        "\n",
        "As usual, the first code cell simply imports all the modules we'll be using..."
      ],
      "metadata": {
        "id": "nbRPZPKZU5Pk"
      }
    },
    {
      "cell_type": "code",
      "execution_count": 2,
      "outputs": [],
      "source": [
        "import datetime, json, requests\n",
        "from pprint import pprint    # Pretty Print - built-in python function to nicely format data structures"
      ],
      "metadata": {
        "pycharm": {
          "name": "#%%\n"
        },
        "ExecuteTime": {
          "end_time": "2024-01-04T04:05:38.688434Z",
          "start_time": "2024-01-04T04:05:38.640552Z"
        },
        "id": "pDeJhS_hRC_q"
      }
    },
    {
      "cell_type": "markdown",
      "source": [
        "We'll answer some questions about [Near Earth Objects](https://cneos.jpl.nasa.gov/)\n",
        "> using NASA's API:  [https://api.nasa.gov/](https://api.nasa.gov/#NeoWS)\n",
        "\n",
        "You should register for your own API key, (but may use the DEMO_KEY to get started).\n",
        "\n",
        "First we need a short tutorial on python dates and [f-strings](https://realpython.com/python-f-strings/)..."
      ],
      "metadata": {
        "collapsed": false,
        "pycharm": {
          "name": "#%% md\n"
        },
        "id": "gmB6NL5fRC_r"
      }
    },
    {
      "cell_type": "code",
      "execution_count": 3,
      "outputs": [
        {
          "output_type": "stream",
          "name": "stdout",
          "text": [
            "2024-01-22 <class 'datetime.date'>\n",
            "Today is: 2024-01-22\n"
          ]
        }
      ],
      "source": [
        "today = datetime.date.today()   # get a date object representing today's date\n",
        "print(today, type(today))\n",
        "formatted_date = f'Today is: {today}'   # A format string - notice how the variable `today` is formatted into the stringg\n",
        "print(formatted_date)"
      ],
      "metadata": {
        "pycharm": {
          "name": "#%%\n"
        },
        "ExecuteTime": {
          "end_time": "2024-01-04T04:05:38.691283Z",
          "start_time": "2024-01-04T04:05:38.688366Z"
        },
        "id": "qZxlW4AlRC_s",
        "outputId": "8d601015-e142-4e7b-9c92-6cd2b809d5e4",
        "colab": {
          "base_uri": "https://localhost:8080/"
        }
      }
    },
    {
      "cell_type": "markdown",
      "source": [
        "### Make a query\n",
        "\n",
        "Let's get some data from the NEO database...\n",
        "Here's a query that gets the observation \"feed\" for today.\n",
        "(Note: I hard-coded the date below to lock down the data for the lab - ideally used `today()` so the notebook is always up-to-date.)"
      ],
      "metadata": {
        "collapsed": false,
        "pycharm": {
          "name": "#%% md\n"
        },
        "id": "u4NDYBanRC_t"
      }
    },
    {
      "cell_type": "code",
      "execution_count": 4,
      "outputs": [
        {
          "output_type": "stream",
          "name": "stdout",
          "text": [
            "{'element_count': 8,\n",
            " 'links': {'next': 'http://api.nasa.gov/neo/rest/v1/feed?start_date=2024-01-23&end_date=2024-01-23&detailed=false&api_key=lkh9yVreJRQafd5QYNFWaZvoMr2wsaVCIiXgLWhm',\n",
            "           'prev': 'http://api.nasa.gov/neo/rest/v1/feed?start_date=2024-01-21&end_date=2024-01-21&detailed=false&api_key=lkh9yVreJRQafd5QYNFWaZvoMr2wsaVCIiXgLWhm',\n",
            "           'self': 'http://api.nasa.gov/neo/rest/v1/feed?start_date=2024-01-22&end_date=2024-01-22&detailed=false&api_key=lkh9yVreJRQafd5QYNFWaZvoMr2wsaVCIiXgLWhm'},\n",
            " 'near_earth_objects': {'2024-01-22': [{'absolute_magnitude_h': 25.0,\n",
            "                                        'close_approach_data': [{'close_approach_date': '2024-01-22',\n",
            "                                                                 'close_approach_date_full': '2024-Jan-22 '\n",
            "                                                                                             '03:21',\n",
            "                                                                 'epoch_date_close_approach': 1705893660000,\n",
            "                                                                 'miss_distance': {'astronomical': '0.3145857376',\n",
            "                                                                                   'kilometers': '47061356.277338912',\n",
            "                                                                                   'lunar': '122.3738519264',\n",
            "                                                                                   'miles': '29242570.7947125056'},\n",
            "                                                                 'orbiting_body': 'Earth',\n",
            "                                                                 'relative_velocity': {'kilometers_per_hour': '68893.8633515718',\n",
            "                                                                                       'kilometers_per_second': '19.1371842643',\n",
            "                                                                                       'miles_per_hour': '42807.9674808697'}}],\n",
            "                                        'estimated_diameter': {'feet': {'estimated_diameter_max': 194.9956979785,\n",
            "                                                                        'estimated_diameter_min': 87.2047272},\n",
            "                                                               'kilometers': {'estimated_diameter_max': 0.0594346868,\n",
            "                                                                              'estimated_diameter_min': 0.02658},\n",
            "                                                               'meters': {'estimated_diameter_max': 59.4346868419,\n",
            "                                                                          'estimated_diameter_min': 26.58},\n",
            "                                                               'miles': {'estimated_diameter_max': 0.0369309908,\n",
            "                                                                         'estimated_diameter_min': 0.0165160412}},\n",
            "                                        'id': '3183847',\n",
            "                                        'is_potentially_hazardous_asteroid': False,\n",
            "                                        'is_sentry_object': False,\n",
            "                                        'links': {'self': 'http://api.nasa.gov/neo/rest/v1/neo/3183847?api_key=lkh9yVreJRQafd5QYNFWaZvoMr2wsaVCIiXgLWhm'},\n",
            "                                        'name': '(2004 LO2)',\n",
            "                                        'nasa_jpl_url': 'https://ssd.jpl.nasa.gov/tools/sbdb_lookup.html#/?sstr=3183847',\n",
            "                                        'neo_reference_id': '3183847'},\n",
            "                                       {'absolute_magnitude_h': 21.27,\n",
            "                                        'close_approach_data': [{'close_approach_date': '2024-01-22',\n",
            "                                                                 'close_approach_date_full': '2024-Jan-22 '\n",
            "                                                                                             '09:40',\n",
            "                                                                 'epoch_date_close_approach': 1705916400000,\n",
            "                                                                 'miss_distance': {'astronomical': '0.3959001387',\n",
            "                                                                                   'kilometers': '59225817.482224569',\n",
            "                                                                                   'lunar': '154.0051539543',\n",
            "                                                                                   'miles': '36801216.4883702922'},\n",
            "                                                                 'orbiting_body': 'Earth',\n",
            "                                                                 'relative_velocity': {'kilometers_per_hour': '64423.9608461795',\n",
            "                                                                                       'kilometers_per_second': '17.8955446795',\n",
            "                                                                                       'miles_per_hour': '40030.5438935608'}}],\n",
            "                                        'estimated_diameter': {'feet': {'estimated_diameter_max': 1086.4882401667,\n",
            "                                                                        'estimated_diameter_min': 485.8923123534},\n",
            "                                                               'kilometers': {'estimated_diameter_max': 0.331161605,\n",
            "                                                                              'estimated_diameter_min': 0.1480999721},\n",
            "                                                               'meters': {'estimated_diameter_max': 331.1616050056,\n",
            "                                                                          'estimated_diameter_min': 148.0999720661},\n",
            "                                                               'miles': {'estimated_diameter_max': 0.2057742177,\n",
            "                                                                         'estimated_diameter_min': 0.0920250277}},\n",
            "                                        'id': '3557196',\n",
            "                                        'is_potentially_hazardous_asteroid': True,\n",
            "                                        'is_sentry_object': False,\n",
            "                                        'links': {'self': 'http://api.nasa.gov/neo/rest/v1/neo/3557196?api_key=lkh9yVreJRQafd5QYNFWaZvoMr2wsaVCIiXgLWhm'},\n",
            "                                        'name': '(2011 CC22)',\n",
            "                                        'nasa_jpl_url': 'https://ssd.jpl.nasa.gov/tools/sbdb_lookup.html#/?sstr=3557196',\n",
            "                                        'neo_reference_id': '3557196'},\n",
            "                                       {'absolute_magnitude_h': 28.1,\n",
            "                                        'close_approach_data': [{'close_approach_date': '2024-01-22',\n",
            "                                                                 'close_approach_date_full': '2024-Jan-22 '\n",
            "                                                                                             '14:13',\n",
            "                                                                 'epoch_date_close_approach': 1705932780000,\n",
            "                                                                 'miss_distance': {'astronomical': '0.092898524',\n",
            "                                                                                   'kilometers': '13897421.31654388',\n",
            "                                                                                   'lunar': '36.137525836',\n",
            "                                                                                   'miles': '8635457.174630344'},\n",
            "                                                                 'orbiting_body': 'Earth',\n",
            "                                                                 'relative_velocity': {'kilometers_per_hour': '13926.6467436716',\n",
            "                                                                                       'kilometers_per_second': '3.8685129844',\n",
            "                                                                                       'miles_per_hour': '8653.4766946997'}}],\n",
            "                                        'estimated_diameter': {'feet': {'estimated_diameter_max': 46.7762099378,\n",
            "                                                                        'estimated_diameter_min': 20.9189570301},\n",
            "                                                               'kilometers': {'estimated_diameter_max': 0.0142573883,\n",
            "                                                                              'estimated_diameter_min': 0.0063760979},\n",
            "                                                               'meters': {'estimated_diameter_max': 14.2573883328,\n",
            "                                                                          'estimated_diameter_min': 6.3760978988},\n",
            "                                                               'miles': {'estimated_diameter_max': 0.0088591276,\n",
            "                                                                         'estimated_diameter_min': 0.0039619223}},\n",
            "                                        'id': '3790065',\n",
            "                                        'is_potentially_hazardous_asteroid': False,\n",
            "                                        'is_sentry_object': False,\n",
            "                                        'links': {'self': 'http://api.nasa.gov/neo/rest/v1/neo/3790065?api_key=lkh9yVreJRQafd5QYNFWaZvoMr2wsaVCIiXgLWhm'},\n",
            "                                        'name': '(2017 WT28)',\n",
            "                                        'nasa_jpl_url': 'https://ssd.jpl.nasa.gov/tools/sbdb_lookup.html#/?sstr=3790065',\n",
            "                                        'neo_reference_id': '3790065'},\n",
            "                                       {'absolute_magnitude_h': 27.0,\n",
            "                                        'close_approach_data': [{'close_approach_date': '2024-01-22',\n",
            "                                                                 'close_approach_date_full': '2024-Jan-22 '\n",
            "                                                                                             '10:24',\n",
            "                                                                 'epoch_date_close_approach': 1705919040000,\n",
            "                                                                 'miss_distance': {'astronomical': '0.4100744842',\n",
            "                                                                                   'kilometers': '61346269.377668654',\n",
            "                                                                                   'lunar': '159.5189743538',\n",
            "                                                                                   'miles': '38118804.1988452652'},\n",
            "                                                                 'orbiting_body': 'Earth',\n",
            "                                                                 'relative_velocity': {'kilometers_per_hour': '54835.6900340318',\n",
            "                                                                                       'kilometers_per_second': '15.2321361206',\n",
            "                                                                                       'miles_per_hour': '34072.7652880905'}}],\n",
            "                                        'estimated_diameter': {'feet': {'estimated_diameter_max': 77.6291855923,\n",
            "                                                                        'estimated_diameter_min': 34.7168272045},\n",
            "                                                               'kilometers': {'estimated_diameter_max': 0.023661375,\n",
            "                                                                              'estimated_diameter_min': 0.0105816886},\n",
            "                                                               'meters': {'estimated_diameter_max': 23.6613750114,\n",
            "                                                                          'estimated_diameter_min': 10.5816885933},\n",
            "                                                               'miles': {'estimated_diameter_max': 0.0147024923,\n",
            "                                                                         'estimated_diameter_min': 0.0065751544}},\n",
            "                                        'id': '3838241',\n",
            "                                        'is_potentially_hazardous_asteroid': False,\n",
            "                                        'is_sentry_object': False,\n",
            "                                        'links': {'self': 'http://api.nasa.gov/neo/rest/v1/neo/3838241?api_key=lkh9yVreJRQafd5QYNFWaZvoMr2wsaVCIiXgLWhm'},\n",
            "                                        'name': '(2019 CF4)',\n",
            "                                        'nasa_jpl_url': 'https://ssd.jpl.nasa.gov/tools/sbdb_lookup.html#/?sstr=3838241',\n",
            "                                        'neo_reference_id': '3838241'},\n",
            "                                       {'absolute_magnitude_h': 27.16,\n",
            "                                        'close_approach_data': [{'close_approach_date': '2024-01-22',\n",
            "                                                                 'close_approach_date_full': '2024-Jan-22 '\n",
            "                                                                                             '06:59',\n",
            "                                                                 'epoch_date_close_approach': 1705906740000,\n",
            "                                                                 'miss_distance': {'astronomical': '0.062965615',\n",
            "                                                                                   'kilometers': '9419521.88724005',\n",
            "                                                                                   'lunar': '24.493624235',\n",
            "                                                                                   'miles': '5853019.49261069'},\n",
            "                                                                 'orbiting_body': 'Earth',\n",
            "                                                                 'relative_velocity': {'kilometers_per_hour': '23724.3884253235',\n",
            "                                                                                       'kilometers_per_second': '6.5901078959',\n",
            "                                                                                       'miles_per_hour': '14741.4123523906'}}],\n",
            "                                        'estimated_diameter': {'feet': {'estimated_diameter_max': 72.1149040484,\n",
            "                                                                        'estimated_diameter_min': 32.2507655286},\n",
            "                                                               'kilometers': {'estimated_diameter_max': 0.0219806221,\n",
            "                                                                              'estimated_diameter_min': 0.009830033},\n",
            "                                                               'meters': {'estimated_diameter_max': 21.9806220506,\n",
            "                                                                          'estimated_diameter_min': 9.8300330186},\n",
            "                                                               'miles': {'estimated_diameter_max': 0.0136581211,\n",
            "                                                                         'estimated_diameter_min': 0.0061080974}},\n",
            "                                        'id': '54101721',\n",
            "                                        'is_potentially_hazardous_asteroid': False,\n",
            "                                        'is_sentry_object': False,\n",
            "                                        'links': {'self': 'http://api.nasa.gov/neo/rest/v1/neo/54101721?api_key=lkh9yVreJRQafd5QYNFWaZvoMr2wsaVCIiXgLWhm'},\n",
            "                                        'name': '(2020 YK3)',\n",
            "                                        'nasa_jpl_url': 'https://ssd.jpl.nasa.gov/tools/sbdb_lookup.html#/?sstr=54101721',\n",
            "                                        'neo_reference_id': '54101721'},\n",
            "                                       {'absolute_magnitude_h': 27.15,\n",
            "                                        'close_approach_data': [{'close_approach_date': '2024-01-22',\n",
            "                                                                 'close_approach_date_full': '2024-Jan-22 '\n",
            "                                                                                             '01:21',\n",
            "                                                                 'epoch_date_close_approach': 1705886460000,\n",
            "                                                                 'miss_distance': {'astronomical': '0.361889438',\n",
            "                                                                                   'kilometers': '54137889.10029706',\n",
            "                                                                                   'lunar': '140.774991382',\n",
            "                                                                                   'miles': '33639724.392177028'},\n",
            "                                                                 'orbiting_body': 'Earth',\n",
            "                                                                 'relative_velocity': {'kilometers_per_hour': '59832.729115079',\n",
            "                                                                                       'kilometers_per_second': '16.620202532',\n",
            "                                                                                       'miles_per_hour': '37177.7310437556'}}],\n",
            "                                        'estimated_diameter': {'feet': {'estimated_diameter_max': 72.4477713214,\n",
            "                                                                        'estimated_diameter_min': 32.3996282986},\n",
            "                                                               'kilometers': {'estimated_diameter_max': 0.02208208,\n",
            "                                                                              'estimated_diameter_min': 0.0098754064},\n",
            "                                                               'meters': {'estimated_diameter_max': 22.0820799921,\n",
            "                                                                          'estimated_diameter_min': 9.8754063894},\n",
            "                                                               'miles': {'estimated_diameter_max': 0.0137211641,\n",
            "                                                                         'estimated_diameter_min': 0.0061362911}},\n",
            "                                        'id': '54212941',\n",
            "                                        'is_potentially_hazardous_asteroid': False,\n",
            "                                        'is_sentry_object': False,\n",
            "                                        'links': {'self': 'http://api.nasa.gov/neo/rest/v1/neo/54212941?api_key=lkh9yVreJRQafd5QYNFWaZvoMr2wsaVCIiXgLWhm'},\n",
            "                                        'name': '(2021 UB3)',\n",
            "                                        'nasa_jpl_url': 'https://ssd.jpl.nasa.gov/tools/sbdb_lookup.html#/?sstr=54212941',\n",
            "                                        'neo_reference_id': '54212941'},\n",
            "                                       {'absolute_magnitude_h': 21.374,\n",
            "                                        'close_approach_data': [{'close_approach_date': '2024-01-22',\n",
            "                                                                 'close_approach_date_full': '2024-Jan-22 '\n",
            "                                                                                             '05:32',\n",
            "                                                                 'epoch_date_close_approach': 1705901520000,\n",
            "                                                                 'miss_distance': {'astronomical': '0.1336593902',\n",
            "                                                                                   'kilometers': '19995160.079418874',\n",
            "                                                                                   'lunar': '51.9935027878',\n",
            "                                                                                   'miles': '12424416.3455095012'},\n",
            "                                                                 'orbiting_body': 'Earth',\n",
            "                                                                 'relative_velocity': {'kilometers_per_hour': '77034.0362201748',\n",
            "                                                                                       'kilometers_per_second': '21.3983433945',\n",
            "                                                                                       'miles_per_hour': '47865.9543391414'}}],\n",
            "                                        'estimated_diameter': {'feet': {'estimated_diameter_max': 1035.6786653344,\n",
            "                                                                        'estimated_diameter_min': 463.1695797068},\n",
            "                                                               'kilometers': {'estimated_diameter_max': 0.3156748471,\n",
            "                                                                              'estimated_diameter_min': 0.1411740834},\n",
            "                                                               'meters': {'estimated_diameter_max': 315.6748470923,\n",
            "                                                                          'estimated_diameter_min': 141.1740833771},\n",
            "                                                               'miles': {'estimated_diameter_max': 0.1961511954,\n",
            "                                                                         'estimated_diameter_min': 0.0877214814}},\n",
            "                                        'id': '54418440',\n",
            "                                        'is_potentially_hazardous_asteroid': False,\n",
            "                                        'is_sentry_object': False,\n",
            "                                        'links': {'self': 'http://api.nasa.gov/neo/rest/v1/neo/54418440?api_key=lkh9yVreJRQafd5QYNFWaZvoMr2wsaVCIiXgLWhm'},\n",
            "                                        'name': '(2023 YU1)',\n",
            "                                        'nasa_jpl_url': 'https://ssd.jpl.nasa.gov/tools/sbdb_lookup.html#/?sstr=54418440',\n",
            "                                        'neo_reference_id': '54418440'},\n",
            "                                       {'absolute_magnitude_h': 26.886,\n",
            "                                        'close_approach_data': [{'close_approach_date': '2024-01-22',\n",
            "                                                                 'close_approach_date_full': '2024-Jan-22 '\n",
            "                                                                                             '03:31',\n",
            "                                                                 'epoch_date_close_approach': 1705894260000,\n",
            "                                                                 'miss_distance': {'astronomical': '0.0200370019',\n",
            "                                                                                   'kilometers': '2997492.805425953',\n",
            "                                                                                   'lunar': '7.7943937391',\n",
            "                                                                                   'miles': '1862555.6614380314'},\n",
            "                                                                 'orbiting_body': 'Earth',\n",
            "                                                                 'relative_velocity': {'kilometers_per_hour': '21148.3826831448',\n",
            "                                                                                       'kilometers_per_second': '5.8745507453',\n",
            "                                                                                       'miles_per_hour': '13140.7825622018'}}],\n",
            "                                        'estimated_diameter': {'feet': {'estimated_diameter_max': 81.8135108753,\n",
            "                                                                        'estimated_diameter_min': 36.588114359},\n",
            "                                                               'kilometers': {'estimated_diameter_max': 0.0249367573,\n",
            "                                                                              'estimated_diameter_min': 0.0111520569},\n",
            "                                                               'meters': {'estimated_diameter_max': 24.9367573168,\n",
            "                                                                          'estimated_diameter_min': 11.1520568998},\n",
            "                                                               'miles': {'estimated_diameter_max': 0.0154949778,\n",
            "                                                                         'estimated_diameter_min': 0.0069295647}},\n",
            "                                        'id': '54421078',\n",
            "                                        'is_potentially_hazardous_asteroid': False,\n",
            "                                        'is_sentry_object': False,\n",
            "                                        'links': {'self': 'http://api.nasa.gov/neo/rest/v1/neo/54421078?api_key=lkh9yVreJRQafd5QYNFWaZvoMr2wsaVCIiXgLWhm'},\n",
            "                                        'name': '(2024 BM)',\n",
            "                                        'nasa_jpl_url': 'https://ssd.jpl.nasa.gov/tools/sbdb_lookup.html#/?sstr=54421078',\n",
            "                                        'neo_reference_id': '54421078'}]}}\n"
          ]
        }
      ],
      "source": [
        "API_KEY = 'lkh9yVreJRQafd5QYNFWaZvoMr2wsaVCIiXgLWhm'  # substitute your API key here\n",
        "# str(datetime.date.today())\n",
        "today = str(datetime.date.today()) #  Future enhancement:  str(datetime.date.today())   # Today's date as a string!\n",
        "# Use an f-string here to \"format\" the date and API key varaibles.\n",
        "url = f'https://api.nasa.gov/neo/rest/v1/feed?start_date={today}&end_date={today}&api_key={API_KEY}'\n",
        "\n",
        "response = requests.request(\"GET\", url, headers={}, data={})\n",
        "\n",
        "data = json.loads(response.text)  # recall json.loads for lab 1\n",
        "\n",
        "# TIP: print(data) to see the whole data structure returned, here we grab just the list of NEO's:\n",
        "pprint(data)\n",
        "# n_results = data['element_count']\n",
        "# neos = data['near_earth_objects'][today]\n",
        "# print(f'{n_results} Near Earth Objects found for {today}')\n",
        "# pprint(neos[:5])\n",
        "\n"
      ],
      "metadata": {
        "pycharm": {
          "name": "#%%\n"
        },
        "ExecuteTime": {
          "end_time": "2024-01-04T04:05:43.064157Z",
          "start_time": "2024-01-04T04:05:38.691252Z"
        },
        "id": "0mcgQrzLRC_u",
        "outputId": "94b52f61-62c4-4d6b-b956-41d1b47cec9d",
        "colab": {
          "base_uri": "https://localhost:8080/"
        }
      }
    },
    {
      "cell_type": "markdown",
      "source": [
        "Next we extract just the potentially hazerdous asteroids, using a Comp115-style list accumulator *loop*:"
      ],
      "metadata": {
        "collapsed": false,
        "pycharm": {
          "name": "#%% md\n"
        },
        "id": "jIkWdXIXRC_u"
      }
    },
    {
      "cell_type": "code",
      "execution_count": 5,
      "metadata": {
        "id": "JDGbYTySU3BP",
        "ExecuteTime": {
          "end_time": "2024-01-04T04:05:43.065108Z",
          "start_time": "2024-01-04T04:05:43.062239Z"
        },
        "outputId": "82b060cf-bb37-4015-bf46-e0aa78e7f519",
        "colab": {
          "base_uri": "https://localhost:8080/",
          "height": 246
        }
      },
      "outputs": [
        {
          "output_type": "error",
          "ename": "NameError",
          "evalue": "name 'neos' is not defined",
          "traceback": [
            "\u001b[0;31m---------------------------------------------------------------------------\u001b[0m",
            "\u001b[0;31mNameError\u001b[0m                                 Traceback (most recent call last)",
            "\u001b[0;32m<ipython-input-5-122edab8c1ae>\u001b[0m in \u001b[0;36m<cell line: 2>\u001b[0;34m()\u001b[0m\n\u001b[1;32m      1\u001b[0m \u001b[0mhazards\u001b[0m \u001b[0;34m=\u001b[0m  \u001b[0;34m[\u001b[0m\u001b[0;34m]\u001b[0m\u001b[0;34m\u001b[0m\u001b[0;34m\u001b[0m\u001b[0m\n\u001b[0;32m----> 2\u001b[0;31m \u001b[0;32mfor\u001b[0m \u001b[0mitem\u001b[0m \u001b[0;32min\u001b[0m \u001b[0mneos\u001b[0m\u001b[0;34m:\u001b[0m\u001b[0;34m\u001b[0m\u001b[0;34m\u001b[0m\u001b[0m\n\u001b[0m\u001b[1;32m      3\u001b[0m   \u001b[0;32mif\u001b[0m \u001b[0mitem\u001b[0m\u001b[0;34m[\u001b[0m\u001b[0;34m'is_potentially_hazardous_asteroid'\u001b[0m\u001b[0;34m]\u001b[0m \u001b[0;32mis\u001b[0m \u001b[0;32mTrue\u001b[0m\u001b[0;34m:\u001b[0m\u001b[0;34m\u001b[0m\u001b[0;34m\u001b[0m\u001b[0m\n\u001b[1;32m      4\u001b[0m     \u001b[0mhazards\u001b[0m\u001b[0;34m.\u001b[0m\u001b[0mappend\u001b[0m\u001b[0;34m(\u001b[0m\u001b[0mitem\u001b[0m\u001b[0;34m)\u001b[0m\u001b[0;34m\u001b[0m\u001b[0;34m\u001b[0m\u001b[0m\n\u001b[1;32m      5\u001b[0m \u001b[0mprint\u001b[0m\u001b[0;34m(\u001b[0m\u001b[0;34mf'{len(hazards)} potentially hazardous asteroids identified.'\u001b[0m\u001b[0;34m)\u001b[0m\u001b[0;34m\u001b[0m\u001b[0;34m\u001b[0m\u001b[0m\n",
            "\u001b[0;31mNameError\u001b[0m: name 'neos' is not defined"
          ]
        }
      ],
      "source": [
        "hazards =  []\n",
        "for item in neos:\n",
        "  if item['is_potentially_hazardous_asteroid'] is True:\n",
        "    hazards.append(item)\n",
        "print(f'{len(hazards)} potentially hazardous asteroids identified.')"
      ]
    },
    {
      "cell_type": "markdown",
      "source": [
        "## Exercise 1\n",
        "\n",
        "In the code cell below, **re-write the accumulator loop above** as a [list comprehension](https://realpython.com/lessons/list-comprehensions-overview/) that implements a [\"filter\"](https://youtu.be/hUes6y2b--0)\n",
        "Notice how this provides a concise way to \"filter\" items of interest from a larger data set."
      ],
      "metadata": {
        "collapsed": false,
        "pycharm": {
          "name": "#%% md\n"
        },
        "id": "sj11bXPhRC_v"
      }
    },
    {
      "cell_type": "code",
      "execution_count": null,
      "outputs": [],
      "source": [
        "# Ex. 1 your code here\n",
        "\n",
        "hazards = [item for item in neos if item['is_potentially_hazardous_asteroid']]\n",
        "\n",
        "# pprint(hazards)\n",
        "\n",
        "print(f'{len(hazards)} potentially hazardous asteroids identified.')"
      ],
      "metadata": {
        "pycharm": {
          "name": "#%%\n"
        },
        "ExecuteTime": {
          "end_time": "2024-01-04T04:05:43.069849Z",
          "start_time": "2024-01-04T04:05:43.065922Z"
        },
        "id": "7A4e_mHNRC_w"
      }
    },
    {
      "cell_type": "markdown",
      "source": [
        "## Fetch Complete Data for One Asteroid\n",
        "\n",
        "Notice that the record for each `neo` is a dictionary with `id` field that uniquely identifies this record in the database.\n",
        "\n",
        "We can use this `id` to fetch complete orbital and close approach data for the NEO.\n",
        "\n",
        "For example, this query fetches the complete data set for the first hazardous asteroid...\n"
      ],
      "metadata": {
        "collapsed": false,
        "pycharm": {
          "name": "#%% md\n"
        },
        "id": "ShNTsfhvRC_x"
      }
    },
    {
      "cell_type": "code",
      "execution_count": null,
      "outputs": [],
      "source": [
        "id = hazards[0]['id']\n",
        "url = f'https://api.nasa.gov/neo/rest/v1/neo/{id}?api_key={API_KEY}'\n",
        "response = requests.request(\"GET\", url, headers={}, data={})\n",
        "cop_data = json.loads(response.text)\n",
        "\n",
        "pprint(cop_data)\n"
      ],
      "metadata": {
        "pycharm": {
          "name": "#%%\n"
        },
        "ExecuteTime": {
          "end_time": "2024-01-04T04:05:43.787125Z",
          "start_time": "2024-01-04T04:05:43.067936Z"
        },
        "id": "2dbrcyipRC_x"
      }
    },
    {
      "cell_type": "markdown",
      "source": [
        "Notice that the `miss_distance` field contains the distance (in various units) by which the NEO missed an \"orbiting body\".\n",
        "\n",
        "## Exercise 2\n",
        "\n",
        "In the code cell below, write a python function that takes a list of \"close approach data\" as a parameter,\n",
        "and returns a 2-tuple with the (date, miss km) of the closest approach to Earth in the list (where \"miss km\" is the miss distance in km).\n",
        "\n",
        "Hints:\n",
        "* notice the input is a list of dictionaries.  Each dictionary has a 'close_approach_date\", \"orbiting_body\", and 'miss_distance' field.\n",
        "* we are only interested in the closest approach to \"Earth\"\n",
        "* use a loop if that is easier to understand - we will look at more compact algorithms to solve this problem in class.\n",
        "\n",
        "Add at least one unit test to check your work - note the test data only needs dictionaries with the fields your function actually uses.\n"
      ],
      "metadata": {
        "id": "DNRs7ynOYwYk"
      }
    },
    {
      "cell_type": "code",
      "source": [
        "# Ex. 2 your code here\n",
        "# test_data = cop_data['close_approach_data']\n",
        "test_data = [{\n",
        "        'close_approach_date': '2024-01-20',\n",
        "        'orbiting_body': 'Earth',\n",
        "        'miss_distance': {'kilometers': '10000'}\n",
        "    },\n",
        "    {\n",
        "        'close_approach_date': '2024-01-21',\n",
        "        'orbiting_body': 'Earth',\n",
        "        'miss_distance': {'kilometers': '7500'}\n",
        "    },\n",
        "    {\n",
        "        'close_approach_date': '2024-01-22',\n",
        "        'orbiting_body': 'Earth',\n",
        "        'miss_distance': {'kilometers': '12000'}\n",
        "    }]\n",
        "\n",
        "def closest_approach_to_earth(close_ap_data):\n",
        "        dates_distances = tuple(zip([iterator['close_approach_date'] for iterator in close_ap_data if iterator['orbiting_body']=='Earth'],[float(iterator['miss_distance']['kilometers']) for iterator in close_ap_data if iterator['orbiting_body']=='Earth']))\n",
        "\n",
        "        dist = [float(iterator['miss_distance']['kilometers']) for iterator in close_ap_data if iterator['orbiting_body']=='Earth']\n",
        "        minimum_distance = min(dist)\n",
        "        answer = [tuple_item for tuple_item in dates_distances if tuple_item[1] == minimum_distance]\n",
        "\n",
        "        return tuple(answer)\n",
        "\n",
        "\n",
        "closest_approach_to_earth(test_data)\n",
        "\n",
        "assert returnTuple(test_data) == (('2024-01-21', 7500.0),) ,\"Incorrect value returned instead of ('2024-01-21', 7500.0)\"\n"
      ],
      "metadata": {
        "id": "tiyXTDfnZAd0",
        "ExecuteTime": {
          "end_time": "2024-01-04T04:05:43.790535Z",
          "start_time": "2024-01-04T04:05:43.787064Z"
        }
      },
      "execution_count": null,
      "outputs": []
    },
    {
      "cell_type": "markdown",
      "source": [
        "## Challenge - Take your skills to the next level...\n",
        "## Exercise 3\n",
        "\n",
        "In the code cell below, write a complete program that:\n",
        " 1. fetches the list of NEO's for this week.\n",
        " 2. for each NEO, fetch it's complete orbital data and determine its closest approach to Earth\n",
        " 3. identify which NEO from this week's data makes the closet approach to earth\n",
        " 4. print a nice message with information about the NEO, which it will approach the Earth, and how close it will come.\n",
        "\n",
        "Hints:\n",
        "* you'll need the start and end date - end date is today, see if you can use a [`timedelta`](https://docs.python.org/3/library/datetime.html#timedelta-objects) object to ge the start date (you can do basic \"date math\" with `timedelta` and `date` objects!)\n",
        "* you may need to modify the function we wrote in Ex. 2 to return a triple with the NEO's id included;\n",
        "* lots of opportunity here for more practice with list comprehensions\n"
      ],
      "metadata": {
        "collapsed": false,
        "id": "uEABcVBHRC_y"
      }
    },
    {
      "cell_type": "code",
      "source": [
        "def cap_e_neo(close_ap_data):\n",
        "        # neo_name = neo_dict['2024-01-15'][0]['name']\n",
        "        dated_list = [i for i in close_ap_data]\n",
        "        return dated_list\n",
        "# Ex. 3 (challenge) your code here\n",
        "from datetime import timedelta\n",
        "\n",
        "API_KEY = 'lkh9yVreJRQafd5QYNFWaZvoMr2wsaVCIiXgLWhm'\n",
        "\n",
        "\n",
        "#this code assumes that week starts from Monday because Sundays are fun! and mondays, well...\n",
        "today = (datetime.date.today())\n",
        "\n",
        "start_date = str(today - timedelta(days=today.weekday()))\n",
        "end_date = str(today)\n",
        "url = f'https://api.nasa.gov/neo/rest/v1/feed?start_date={start_date}&end_date={today}&api_key={API_KEY}'\n",
        "\n",
        "request_response = requests.request(\"GET\", url, headers={}, data={})\n",
        "\n",
        "returned_data = json.loads(request_response.text)\n",
        "\n",
        "\n",
        "neo_dict = returned_data['near_earth_objects']\n",
        "pprint(neo_dict)\n",
        "neo_data_list = [\n",
        "    {\n",
        "        'Name': i['name'],\n",
        "        'ID': i['id'],\n",
        "        'date': i['close_approach_data'][0]['close_approach_date_full'],\n",
        "        'Miss Distance in Kilometers': i['close_approach_data'][0]['miss_distance']['kilometers']\n",
        "\n",
        "    }\n",
        "    for j in neo_dict\n",
        "    for i in neo_dict[j]\n",
        "]\n",
        "# neo_data_list\n",
        "\n",
        "# for j in neo_dict:\n",
        "#   for i in neo_dict[j]:\n",
        "#       print(\"***********************\")\n",
        "\n",
        "#       print(\"Name of Neo:\"+ i['name'] + \" ID:\"+ i['id'])\n",
        "#       pprint(i['close_approach_data'])\n"
      ],
      "metadata": {
        "id": "Ds1YevErlzCe",
        "pycharm": {
          "name": "#%%\n"
        },
        "ExecuteTime": {
          "end_time": "2024-01-04T04:05:43.790766Z",
          "start_time": "2024-01-04T04:05:43.789211Z"
        },
        "colab": {
          "base_uri": "https://localhost:8080/"
        },
        "outputId": "5c747f46-f8d8-4397-cf69-5c00c7191cdc"
      },
      "execution_count": 23,
      "outputs": [
        {
          "output_type": "stream",
          "name": "stdout",
          "text": [
            "{'2024-01-22': [{'absolute_magnitude_h': 25.0,\n",
            "                 'close_approach_data': [{'close_approach_date': '2024-01-22',\n",
            "                                          'close_approach_date_full': '2024-Jan-22 '\n",
            "                                                                      '03:21',\n",
            "                                          'epoch_date_close_approach': 1705893660000,\n",
            "                                          'miss_distance': {'astronomical': '0.3145857376',\n",
            "                                                            'kilometers': '47061356.277338912',\n",
            "                                                            'lunar': '122.3738519264',\n",
            "                                                            'miles': '29242570.7947125056'},\n",
            "                                          'orbiting_body': 'Earth',\n",
            "                                          'relative_velocity': {'kilometers_per_hour': '68893.8633515718',\n",
            "                                                                'kilometers_per_second': '19.1371842643',\n",
            "                                                                'miles_per_hour': '42807.9674808697'}}],\n",
            "                 'estimated_diameter': {'feet': {'estimated_diameter_max': 194.9956979785,\n",
            "                                                 'estimated_diameter_min': 87.2047272},\n",
            "                                        'kilometers': {'estimated_diameter_max': 0.0594346868,\n",
            "                                                       'estimated_diameter_min': 0.02658},\n",
            "                                        'meters': {'estimated_diameter_max': 59.4346868419,\n",
            "                                                   'estimated_diameter_min': 26.58},\n",
            "                                        'miles': {'estimated_diameter_max': 0.0369309908,\n",
            "                                                  'estimated_diameter_min': 0.0165160412}},\n",
            "                 'id': '3183847',\n",
            "                 'is_potentially_hazardous_asteroid': False,\n",
            "                 'is_sentry_object': False,\n",
            "                 'links': {'self': 'http://api.nasa.gov/neo/rest/v1/neo/3183847?api_key=lkh9yVreJRQafd5QYNFWaZvoMr2wsaVCIiXgLWhm'},\n",
            "                 'name': '(2004 LO2)',\n",
            "                 'nasa_jpl_url': 'https://ssd.jpl.nasa.gov/tools/sbdb_lookup.html#/?sstr=3183847',\n",
            "                 'neo_reference_id': '3183847'},\n",
            "                {'absolute_magnitude_h': 21.27,\n",
            "                 'close_approach_data': [{'close_approach_date': '2024-01-22',\n",
            "                                          'close_approach_date_full': '2024-Jan-22 '\n",
            "                                                                      '09:40',\n",
            "                                          'epoch_date_close_approach': 1705916400000,\n",
            "                                          'miss_distance': {'astronomical': '0.3959001387',\n",
            "                                                            'kilometers': '59225817.482224569',\n",
            "                                                            'lunar': '154.0051539543',\n",
            "                                                            'miles': '36801216.4883702922'},\n",
            "                                          'orbiting_body': 'Earth',\n",
            "                                          'relative_velocity': {'kilometers_per_hour': '64423.9608461795',\n",
            "                                                                'kilometers_per_second': '17.8955446795',\n",
            "                                                                'miles_per_hour': '40030.5438935608'}}],\n",
            "                 'estimated_diameter': {'feet': {'estimated_diameter_max': 1086.4882401667,\n",
            "                                                 'estimated_diameter_min': 485.8923123534},\n",
            "                                        'kilometers': {'estimated_diameter_max': 0.331161605,\n",
            "                                                       'estimated_diameter_min': 0.1480999721},\n",
            "                                        'meters': {'estimated_diameter_max': 331.1616050056,\n",
            "                                                   'estimated_diameter_min': 148.0999720661},\n",
            "                                        'miles': {'estimated_diameter_max': 0.2057742177,\n",
            "                                                  'estimated_diameter_min': 0.0920250277}},\n",
            "                 'id': '3557196',\n",
            "                 'is_potentially_hazardous_asteroid': True,\n",
            "                 'is_sentry_object': False,\n",
            "                 'links': {'self': 'http://api.nasa.gov/neo/rest/v1/neo/3557196?api_key=lkh9yVreJRQafd5QYNFWaZvoMr2wsaVCIiXgLWhm'},\n",
            "                 'name': '(2011 CC22)',\n",
            "                 'nasa_jpl_url': 'https://ssd.jpl.nasa.gov/tools/sbdb_lookup.html#/?sstr=3557196',\n",
            "                 'neo_reference_id': '3557196'},\n",
            "                {'absolute_magnitude_h': 28.1,\n",
            "                 'close_approach_data': [{'close_approach_date': '2024-01-22',\n",
            "                                          'close_approach_date_full': '2024-Jan-22 '\n",
            "                                                                      '14:13',\n",
            "                                          'epoch_date_close_approach': 1705932780000,\n",
            "                                          'miss_distance': {'astronomical': '0.092898524',\n",
            "                                                            'kilometers': '13897421.31654388',\n",
            "                                                            'lunar': '36.137525836',\n",
            "                                                            'miles': '8635457.174630344'},\n",
            "                                          'orbiting_body': 'Earth',\n",
            "                                          'relative_velocity': {'kilometers_per_hour': '13926.6467436716',\n",
            "                                                                'kilometers_per_second': '3.8685129844',\n",
            "                                                                'miles_per_hour': '8653.4766946997'}}],\n",
            "                 'estimated_diameter': {'feet': {'estimated_diameter_max': 46.7762099378,\n",
            "                                                 'estimated_diameter_min': 20.9189570301},\n",
            "                                        'kilometers': {'estimated_diameter_max': 0.0142573883,\n",
            "                                                       'estimated_diameter_min': 0.0063760979},\n",
            "                                        'meters': {'estimated_diameter_max': 14.2573883328,\n",
            "                                                   'estimated_diameter_min': 6.3760978988},\n",
            "                                        'miles': {'estimated_diameter_max': 0.0088591276,\n",
            "                                                  'estimated_diameter_min': 0.0039619223}},\n",
            "                 'id': '3790065',\n",
            "                 'is_potentially_hazardous_asteroid': False,\n",
            "                 'is_sentry_object': False,\n",
            "                 'links': {'self': 'http://api.nasa.gov/neo/rest/v1/neo/3790065?api_key=lkh9yVreJRQafd5QYNFWaZvoMr2wsaVCIiXgLWhm'},\n",
            "                 'name': '(2017 WT28)',\n",
            "                 'nasa_jpl_url': 'https://ssd.jpl.nasa.gov/tools/sbdb_lookup.html#/?sstr=3790065',\n",
            "                 'neo_reference_id': '3790065'},\n",
            "                {'absolute_magnitude_h': 27.0,\n",
            "                 'close_approach_data': [{'close_approach_date': '2024-01-22',\n",
            "                                          'close_approach_date_full': '2024-Jan-22 '\n",
            "                                                                      '10:24',\n",
            "                                          'epoch_date_close_approach': 1705919040000,\n",
            "                                          'miss_distance': {'astronomical': '0.4100744842',\n",
            "                                                            'kilometers': '61346269.377668654',\n",
            "                                                            'lunar': '159.5189743538',\n",
            "                                                            'miles': '38118804.1988452652'},\n",
            "                                          'orbiting_body': 'Earth',\n",
            "                                          'relative_velocity': {'kilometers_per_hour': '54835.6900340318',\n",
            "                                                                'kilometers_per_second': '15.2321361206',\n",
            "                                                                'miles_per_hour': '34072.7652880905'}}],\n",
            "                 'estimated_diameter': {'feet': {'estimated_diameter_max': 77.6291855923,\n",
            "                                                 'estimated_diameter_min': 34.7168272045},\n",
            "                                        'kilometers': {'estimated_diameter_max': 0.023661375,\n",
            "                                                       'estimated_diameter_min': 0.0105816886},\n",
            "                                        'meters': {'estimated_diameter_max': 23.6613750114,\n",
            "                                                   'estimated_diameter_min': 10.5816885933},\n",
            "                                        'miles': {'estimated_diameter_max': 0.0147024923,\n",
            "                                                  'estimated_diameter_min': 0.0065751544}},\n",
            "                 'id': '3838241',\n",
            "                 'is_potentially_hazardous_asteroid': False,\n",
            "                 'is_sentry_object': False,\n",
            "                 'links': {'self': 'http://api.nasa.gov/neo/rest/v1/neo/3838241?api_key=lkh9yVreJRQafd5QYNFWaZvoMr2wsaVCIiXgLWhm'},\n",
            "                 'name': '(2019 CF4)',\n",
            "                 'nasa_jpl_url': 'https://ssd.jpl.nasa.gov/tools/sbdb_lookup.html#/?sstr=3838241',\n",
            "                 'neo_reference_id': '3838241'},\n",
            "                {'absolute_magnitude_h': 27.16,\n",
            "                 'close_approach_data': [{'close_approach_date': '2024-01-22',\n",
            "                                          'close_approach_date_full': '2024-Jan-22 '\n",
            "                                                                      '06:59',\n",
            "                                          'epoch_date_close_approach': 1705906740000,\n",
            "                                          'miss_distance': {'astronomical': '0.062965615',\n",
            "                                                            'kilometers': '9419521.88724005',\n",
            "                                                            'lunar': '24.493624235',\n",
            "                                                            'miles': '5853019.49261069'},\n",
            "                                          'orbiting_body': 'Earth',\n",
            "                                          'relative_velocity': {'kilometers_per_hour': '23724.3884253235',\n",
            "                                                                'kilometers_per_second': '6.5901078959',\n",
            "                                                                'miles_per_hour': '14741.4123523906'}}],\n",
            "                 'estimated_diameter': {'feet': {'estimated_diameter_max': 72.1149040484,\n",
            "                                                 'estimated_diameter_min': 32.2507655286},\n",
            "                                        'kilometers': {'estimated_diameter_max': 0.0219806221,\n",
            "                                                       'estimated_diameter_min': 0.009830033},\n",
            "                                        'meters': {'estimated_diameter_max': 21.9806220506,\n",
            "                                                   'estimated_diameter_min': 9.8300330186},\n",
            "                                        'miles': {'estimated_diameter_max': 0.0136581211,\n",
            "                                                  'estimated_diameter_min': 0.0061080974}},\n",
            "                 'id': '54101721',\n",
            "                 'is_potentially_hazardous_asteroid': False,\n",
            "                 'is_sentry_object': False,\n",
            "                 'links': {'self': 'http://api.nasa.gov/neo/rest/v1/neo/54101721?api_key=lkh9yVreJRQafd5QYNFWaZvoMr2wsaVCIiXgLWhm'},\n",
            "                 'name': '(2020 YK3)',\n",
            "                 'nasa_jpl_url': 'https://ssd.jpl.nasa.gov/tools/sbdb_lookup.html#/?sstr=54101721',\n",
            "                 'neo_reference_id': '54101721'},\n",
            "                {'absolute_magnitude_h': 27.15,\n",
            "                 'close_approach_data': [{'close_approach_date': '2024-01-22',\n",
            "                                          'close_approach_date_full': '2024-Jan-22 '\n",
            "                                                                      '01:21',\n",
            "                                          'epoch_date_close_approach': 1705886460000,\n",
            "                                          'miss_distance': {'astronomical': '0.361889438',\n",
            "                                                            'kilometers': '54137889.10029706',\n",
            "                                                            'lunar': '140.774991382',\n",
            "                                                            'miles': '33639724.392177028'},\n",
            "                                          'orbiting_body': 'Earth',\n",
            "                                          'relative_velocity': {'kilometers_per_hour': '59832.729115079',\n",
            "                                                                'kilometers_per_second': '16.620202532',\n",
            "                                                                'miles_per_hour': '37177.7310437556'}}],\n",
            "                 'estimated_diameter': {'feet': {'estimated_diameter_max': 72.4477713214,\n",
            "                                                 'estimated_diameter_min': 32.3996282986},\n",
            "                                        'kilometers': {'estimated_diameter_max': 0.02208208,\n",
            "                                                       'estimated_diameter_min': 0.0098754064},\n",
            "                                        'meters': {'estimated_diameter_max': 22.0820799921,\n",
            "                                                   'estimated_diameter_min': 9.8754063894},\n",
            "                                        'miles': {'estimated_diameter_max': 0.0137211641,\n",
            "                                                  'estimated_diameter_min': 0.0061362911}},\n",
            "                 'id': '54212941',\n",
            "                 'is_potentially_hazardous_asteroid': False,\n",
            "                 'is_sentry_object': False,\n",
            "                 'links': {'self': 'http://api.nasa.gov/neo/rest/v1/neo/54212941?api_key=lkh9yVreJRQafd5QYNFWaZvoMr2wsaVCIiXgLWhm'},\n",
            "                 'name': '(2021 UB3)',\n",
            "                 'nasa_jpl_url': 'https://ssd.jpl.nasa.gov/tools/sbdb_lookup.html#/?sstr=54212941',\n",
            "                 'neo_reference_id': '54212941'},\n",
            "                {'absolute_magnitude_h': 21.374,\n",
            "                 'close_approach_data': [{'close_approach_date': '2024-01-22',\n",
            "                                          'close_approach_date_full': '2024-Jan-22 '\n",
            "                                                                      '05:32',\n",
            "                                          'epoch_date_close_approach': 1705901520000,\n",
            "                                          'miss_distance': {'astronomical': '0.1336593902',\n",
            "                                                            'kilometers': '19995160.079418874',\n",
            "                                                            'lunar': '51.9935027878',\n",
            "                                                            'miles': '12424416.3455095012'},\n",
            "                                          'orbiting_body': 'Earth',\n",
            "                                          'relative_velocity': {'kilometers_per_hour': '77034.0362201748',\n",
            "                                                                'kilometers_per_second': '21.3983433945',\n",
            "                                                                'miles_per_hour': '47865.9543391414'}}],\n",
            "                 'estimated_diameter': {'feet': {'estimated_diameter_max': 1035.6786653344,\n",
            "                                                 'estimated_diameter_min': 463.1695797068},\n",
            "                                        'kilometers': {'estimated_diameter_max': 0.3156748471,\n",
            "                                                       'estimated_diameter_min': 0.1411740834},\n",
            "                                        'meters': {'estimated_diameter_max': 315.6748470923,\n",
            "                                                   'estimated_diameter_min': 141.1740833771},\n",
            "                                        'miles': {'estimated_diameter_max': 0.1961511954,\n",
            "                                                  'estimated_diameter_min': 0.0877214814}},\n",
            "                 'id': '54418440',\n",
            "                 'is_potentially_hazardous_asteroid': False,\n",
            "                 'is_sentry_object': False,\n",
            "                 'links': {'self': 'http://api.nasa.gov/neo/rest/v1/neo/54418440?api_key=lkh9yVreJRQafd5QYNFWaZvoMr2wsaVCIiXgLWhm'},\n",
            "                 'name': '(2023 YU1)',\n",
            "                 'nasa_jpl_url': 'https://ssd.jpl.nasa.gov/tools/sbdb_lookup.html#/?sstr=54418440',\n",
            "                 'neo_reference_id': '54418440'},\n",
            "                {'absolute_magnitude_h': 26.886,\n",
            "                 'close_approach_data': [{'close_approach_date': '2024-01-22',\n",
            "                                          'close_approach_date_full': '2024-Jan-22 '\n",
            "                                                                      '03:31',\n",
            "                                          'epoch_date_close_approach': 1705894260000,\n",
            "                                          'miss_distance': {'astronomical': '0.0200370019',\n",
            "                                                            'kilometers': '2997492.805425953',\n",
            "                                                            'lunar': '7.7943937391',\n",
            "                                                            'miles': '1862555.6614380314'},\n",
            "                                          'orbiting_body': 'Earth',\n",
            "                                          'relative_velocity': {'kilometers_per_hour': '21148.3826831448',\n",
            "                                                                'kilometers_per_second': '5.8745507453',\n",
            "                                                                'miles_per_hour': '13140.7825622018'}}],\n",
            "                 'estimated_diameter': {'feet': {'estimated_diameter_max': 81.8135108753,\n",
            "                                                 'estimated_diameter_min': 36.588114359},\n",
            "                                        'kilometers': {'estimated_diameter_max': 0.0249367573,\n",
            "                                                       'estimated_diameter_min': 0.0111520569},\n",
            "                                        'meters': {'estimated_diameter_max': 24.9367573168,\n",
            "                                                   'estimated_diameter_min': 11.1520568998},\n",
            "                                        'miles': {'estimated_diameter_max': 0.0154949778,\n",
            "                                                  'estimated_diameter_min': 0.0069295647}},\n",
            "                 'id': '54421078',\n",
            "                 'is_potentially_hazardous_asteroid': False,\n",
            "                 'is_sentry_object': False,\n",
            "                 'links': {'self': 'http://api.nasa.gov/neo/rest/v1/neo/54421078?api_key=lkh9yVreJRQafd5QYNFWaZvoMr2wsaVCIiXgLWhm'},\n",
            "                 'name': '(2024 BM)',\n",
            "                 'nasa_jpl_url': 'https://ssd.jpl.nasa.gov/tools/sbdb_lookup.html#/?sstr=54421078',\n",
            "                 'neo_reference_id': '54421078'}]}\n"
          ]
        }
      ]
    },
    {
      "cell_type": "code",
      "source": [],
      "metadata": {
        "id": "UDEJ2g3kEHde"
      },
      "execution_count": null,
      "outputs": []
    }
  ]
}