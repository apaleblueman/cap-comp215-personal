{
  "nbformat": 4,
  "nbformat_minor": 0,
  "metadata": {
    "colab": {
      "name": "Lab2-NEO.ipynb",
      "provenance": [],
      "include_colab_link": true
    },
    "kernelspec": {
      "name": "python3",
      "language": "python",
      "display_name": "Python 3 (ipykernel)"
    },
    "language_info": {
      "name": "python"
    }
  },
  "cells": [
    {
      "cell_type": "markdown",
      "metadata": {
        "id": "view-in-github",
        "colab_type": "text"
      },
      "source": [
        "<a href=\"https://colab.research.google.com/github/apaleblueman/cap-comp215-personal/blob/main/labs/lab02-records.ipynb\" target=\"_parent\"><img src=\"https://colab.research.google.com/assets/colab-badge.svg\" alt=\"Open In Colab\"/></a>"
      ]
    },
    {
      "cell_type": "markdown",
      "source": [
        "COMP 215 - LAB 2 Records (NEO)\n",
        "----------------\n",
        "#### Name:\n",
        "#### Date:\n",
        "\n",
        "This lab exercise is mostly a review of strings, tuples, lists, dictionaries, and functions.\n",
        "\n",
        "**Building on new concepts from lab 1**:\n",
        "  * `datetime.date` objects represent a calendar date\n",
        "  * *list comprehension* provides a compact way to represent map and filter algorithms\n",
        "\n",
        "**New Python Concepts**:\n",
        "  * *f-string* simplifies string formatting operations\n",
        "\n",
        "As usual, the first code cell simply imports all the modules we'll be using..."
      ],
      "metadata": {
        "id": "nbRPZPKZU5Pk"
      }
    },
    {
      "cell_type": "code",
      "execution_count": 6,
      "outputs": [],
      "source": [
        "import datetime, json, requests\n",
        "from pprint import pprint    # Pretty Print - built-in python function to nicely format data structures"
      ],
      "metadata": {
        "pycharm": {
          "name": "#%%\n"
        },
        "ExecuteTime": {
          "end_time": "2024-01-04T04:05:38.688434Z",
          "start_time": "2024-01-04T04:05:38.640552Z"
        },
        "id": "pDeJhS_hRC_q"
      }
    },
    {
      "cell_type": "markdown",
      "source": [
        "We'll answer some questions about [Near Earth Objects](https://cneos.jpl.nasa.gov/)\n",
        "> using NASA's API:  [https://api.nasa.gov/](https://api.nasa.gov/#NeoWS)\n",
        "\n",
        "You should register for your own API key, (but may use the DEMO_KEY to get started).\n",
        "\n",
        "First we need a short tutorial on python dates and [f-strings](https://realpython.com/python-f-strings/)..."
      ],
      "metadata": {
        "collapsed": false,
        "pycharm": {
          "name": "#%% md\n"
        },
        "id": "gmB6NL5fRC_r"
      }
    },
    {
      "cell_type": "code",
      "execution_count": 7,
      "outputs": [
        {
          "output_type": "stream",
          "name": "stdout",
          "text": [
            "2024-01-20 <class 'datetime.date'>\n",
            "Today is: 2024-01-20\n"
          ]
        }
      ],
      "source": [
        "today = datetime.date.today()   # get a date object representing today's date\n",
        "print(today, type(today))\n",
        "formatted_date = f'Today is: {today}'   # A format string - notice how the variable `today` is formatted into the stringg\n",
        "print(formatted_date)"
      ],
      "metadata": {
        "pycharm": {
          "name": "#%%\n"
        },
        "ExecuteTime": {
          "end_time": "2024-01-04T04:05:38.691283Z",
          "start_time": "2024-01-04T04:05:38.688366Z"
        },
        "id": "qZxlW4AlRC_s",
        "outputId": "0356f63d-3f22-45fe-890a-9c561ab89576",
        "colab": {
          "base_uri": "https://localhost:8080/"
        }
      }
    },
    {
      "cell_type": "markdown",
      "source": [
        "### Make a query\n",
        "\n",
        "Let's get some data from the NEO database...\n",
        "Here's a query that gets the observation \"feed\" for today.\n",
        "(Note: I hard-coded the date below to lock down the data for the lab - ideally used `today()` so the notebook is always up-to-date.)"
      ],
      "metadata": {
        "collapsed": false,
        "pycharm": {
          "name": "#%% md\n"
        },
        "id": "u4NDYBanRC_t"
      }
    },
    {
      "cell_type": "code",
      "execution_count": 8,
      "outputs": [
        {
          "output_type": "stream",
          "name": "stdout",
          "text": [
            "{'element_count': 12,\n",
            " 'links': {'next': 'http://api.nasa.gov/neo/rest/v1/feed?start_date=2024-01-21&end_date=2024-01-21&detailed=false&api_key=lkh9yVreJRQafd5QYNFWaZvoMr2wsaVCIiXgLWhm',\n",
            "           'prev': 'http://api.nasa.gov/neo/rest/v1/feed?start_date=2024-01-19&end_date=2024-01-19&detailed=false&api_key=lkh9yVreJRQafd5QYNFWaZvoMr2wsaVCIiXgLWhm',\n",
            "           'self': 'http://api.nasa.gov/neo/rest/v1/feed?start_date=2024-01-20&end_date=2024-01-20&detailed=false&api_key=lkh9yVreJRQafd5QYNFWaZvoMr2wsaVCIiXgLWhm'},\n",
            " 'near_earth_objects': {'2024-01-20': [{'absolute_magnitude_h': 14.32,\n",
            "                                        'close_approach_data': [{'close_approach_date': '2024-01-20',\n",
            "                                                                 'close_approach_date_full': '2024-Jan-20 '\n",
            "                                                                                             '20:46',\n",
            "                                                                 'epoch_date_close_approach': 1705783560000,\n",
            "                                                                 'miss_distance': {'astronomical': '0.1330629627',\n",
            "                                                                                   'kilometers': '19905935.795809449',\n",
            "                                                                                   'lunar': '51.7614924903',\n",
            "                                                                                   'miles': '12368974.9465264362'},\n",
            "                                                                 'orbiting_body': 'Earth',\n",
            "                                                                 'relative_velocity': {'kilometers_per_hour': '58226.7218095051',\n",
            "                                                                                       'kilometers_per_second': '16.1740893915',\n",
            "                                                                                       'miles_per_hour': '36179.8205599117'}}],\n",
            "                                        'estimated_diameter': {'feet': {'estimated_diameter_max': 26670.1236992411,\n",
            "                                                                        'estimated_diameter_min': 11927.2419119662},\n",
            "                                                               'kilometers': {'estimated_diameter_max': 8.1290534434,\n",
            "                                                                              'estimated_diameter_min': 3.6354232184},\n",
            "                                                               'meters': {'estimated_diameter_max': 8129.053443399,\n",
            "                                                                          'estimated_diameter_min': 3635.4232184338},\n",
            "                                                               'miles': {'estimated_diameter_max': 5.0511580672,\n",
            "                                                                         'estimated_diameter_min': 2.2589465607}},\n",
            "                                        'id': '2001685',\n",
            "                                        'is_potentially_hazardous_asteroid': False,\n",
            "                                        'is_sentry_object': False,\n",
            "                                        'links': {'self': 'http://api.nasa.gov/neo/rest/v1/neo/2001685?api_key=lkh9yVreJRQafd5QYNFWaZvoMr2wsaVCIiXgLWhm'},\n",
            "                                        'name': '1685 Toro (1948 OA)',\n",
            "                                        'nasa_jpl_url': 'https://ssd.jpl.nasa.gov/tools/sbdb_lookup.html#/?sstr=2001685',\n",
            "                                        'neo_reference_id': '2001685'},\n",
            "                                       {'absolute_magnitude_h': 20.15,\n",
            "                                        'close_approach_data': [{'close_approach_date': '2024-01-20',\n",
            "                                                                 'close_approach_date_full': '2024-Jan-20 '\n",
            "                                                                                             '01:39',\n",
            "                                                                 'epoch_date_close_approach': 1705714740000,\n",
            "                                                                 'miss_distance': {'astronomical': '0.0852798145',\n",
            "                                                                                   'kilometers': '12757678.603195115',\n",
            "                                                                                   'lunar': '33.1738478405',\n",
            "                                                                                   'miles': '7927253.892377987'},\n",
            "                                                                 'orbiting_body': 'Earth',\n",
            "                                                                 'relative_velocity': {'kilometers_per_hour': '42878.9361779568',\n",
            "                                                                                       'kilometers_per_second': '11.910815605',\n",
            "                                                                                       'miles_per_hour': '26643.3034267977'}}],\n",
            "                                        'estimated_diameter': {'feet': {'estimated_diameter_max': 1819.8057377537,\n",
            "                                                                        'estimated_diameter_min': 813.8418670923},\n",
            "                                                               'kilometers': {'estimated_diameter_max': 0.5546767711,\n",
            "                                                                              'estimated_diameter_min': 0.2480589932},\n",
            "                                                               'meters': {'estimated_diameter_max': 554.6767711177,\n",
            "                                                                          'estimated_diameter_min': 248.0589931518},\n",
            "                                                               'miles': {'estimated_diameter_max': 0.3446600599,\n",
            "                                                                         'estimated_diameter_min': 0.1541366646}},\n",
            "                                        'id': '2483508',\n",
            "                                        'is_potentially_hazardous_asteroid': True,\n",
            "                                        'is_sentry_object': False,\n",
            "                                        'links': {'self': 'http://api.nasa.gov/neo/rest/v1/neo/2483508?api_key=lkh9yVreJRQafd5QYNFWaZvoMr2wsaVCIiXgLWhm'},\n",
            "                                        'name': '483508 (2003 CR1)',\n",
            "                                        'nasa_jpl_url': 'https://ssd.jpl.nasa.gov/tools/sbdb_lookup.html#/?sstr=2483508',\n",
            "                                        'neo_reference_id': '2483508'},\n",
            "                                       {'absolute_magnitude_h': 22.32,\n",
            "                                        'close_approach_data': [{'close_approach_date': '2024-01-20',\n",
            "                                                                 'close_approach_date_full': '2024-Jan-20 '\n",
            "                                                                                             '15:39',\n",
            "                                                                 'epoch_date_close_approach': 1705765140000,\n",
            "                                                                 'miss_distance': {'astronomical': '0.4024774714',\n",
            "                                                                                   'kilometers': '60209772.444425918',\n",
            "                                                                                   'lunar': '156.5637363746',\n",
            "                                                                                   'miles': '37412617.7508289484'},\n",
            "                                                                 'orbiting_body': 'Earth',\n",
            "                                                                 'relative_velocity': {'kilometers_per_hour': '24165.3793221674',\n",
            "                                                                                       'kilometers_per_second': '6.7126053673',\n",
            "                                                                                       'miles_per_hour': '15015.4269460434'}}],\n",
            "                                        'estimated_diameter': {'feet': {'estimated_diameter_max': 669.9232184681,\n",
            "                                                                        'estimated_diameter_min': 299.59877124},\n",
            "                                                               'kilometers': {'estimated_diameter_max': 0.2041925905,\n",
            "                                                                              'estimated_diameter_min': 0.0913177026},\n",
            "                                                               'meters': {'estimated_diameter_max': 204.1925904549,\n",
            "                                                                          'estimated_diameter_min': 91.3177025518},\n",
            "                                                               'miles': {'estimated_diameter_max': 0.1268793541,\n",
            "                                                                         'estimated_diameter_min': 0.0567421722}},\n",
            "                                        'id': '3327141',\n",
            "                                        'is_potentially_hazardous_asteroid': False,\n",
            "                                        'is_sentry_object': False,\n",
            "                                        'links': {'self': 'http://api.nasa.gov/neo/rest/v1/neo/3327141?api_key=lkh9yVreJRQafd5QYNFWaZvoMr2wsaVCIiXgLWhm'},\n",
            "                                        'name': '(2006 EW52)',\n",
            "                                        'nasa_jpl_url': 'https://ssd.jpl.nasa.gov/tools/sbdb_lookup.html#/?sstr=3327141',\n",
            "                                        'neo_reference_id': '3327141'},\n",
            "                                       {'absolute_magnitude_h': 22.2,\n",
            "                                        'close_approach_data': [{'close_approach_date': '2024-01-20',\n",
            "                                                                 'close_approach_date_full': '2024-Jan-20 '\n",
            "                                                                                             '22:45',\n",
            "                                                                 'epoch_date_close_approach': 1705790700000,\n",
            "                                                                 'miss_distance': {'astronomical': '0.2366304315',\n",
            "                                                                                   'kilometers': '35399408.529580905',\n",
            "                                                                                   'lunar': '92.0492378535',\n",
            "                                                                                   'miles': '21996172.484210289'},\n",
            "                                                                 'orbiting_body': 'Earth',\n",
            "                                                                 'relative_velocity': {'kilometers_per_hour': '40047.5567201638',\n",
            "                                                                                       'kilometers_per_second': '11.1243213112',\n",
            "                                                                                       'miles_per_hour': '24883.9943409262'}}],\n",
            "                                        'estimated_diameter': {'feet': {'estimated_diameter_max': 707.9865871058,\n",
            "                                                                        'estimated_diameter_min': 316.6212271853},\n",
            "                                                               'kilometers': {'estimated_diameter_max': 0.2157943048,\n",
            "                                                                              'estimated_diameter_min': 0.096506147},\n",
            "                                                               'meters': {'estimated_diameter_max': 215.7943048444,\n",
            "                                                                          'estimated_diameter_min': 96.5061469579},\n",
            "                                                               'miles': {'estimated_diameter_max': 0.134088323,\n",
            "                                                                         'estimated_diameter_min': 0.059966121}},\n",
            "                                        'id': '3596145',\n",
            "                                        'is_potentially_hazardous_asteroid': False,\n",
            "                                        'is_sentry_object': False,\n",
            "                                        'links': {'self': 'http://api.nasa.gov/neo/rest/v1/neo/3596145?api_key=lkh9yVreJRQafd5QYNFWaZvoMr2wsaVCIiXgLWhm'},\n",
            "                                        'name': '(2012 BV26)',\n",
            "                                        'nasa_jpl_url': 'https://ssd.jpl.nasa.gov/tools/sbdb_lookup.html#/?sstr=3596145',\n",
            "                                        'neo_reference_id': '3596145'},\n",
            "                                       {'absolute_magnitude_h': 26.1,\n",
            "                                        'close_approach_data': [{'close_approach_date': '2024-01-20',\n",
            "                                                                 'close_approach_date_full': '2024-Jan-20 '\n",
            "                                                                                             '22:05',\n",
            "                                                                 'epoch_date_close_approach': 1705788300000,\n",
            "                                                                 'miss_distance': {'astronomical': '0.0838433211',\n",
            "                                                                                   'kilometers': '12542782.250286057',\n",
            "                                                                                   'lunar': '32.6150519079',\n",
            "                                                                                   'miles': '7793723.4905673066'},\n",
            "                                                                 'orbiting_body': 'Earth',\n",
            "                                                                 'relative_velocity': {'kilometers_per_hour': '42023.8626717744',\n",
            "                                                                                       'kilometers_per_second': '11.6732951866',\n",
            "                                                                                       'miles_per_hour': '26111.9940029145'}}],\n",
            "                                        'estimated_diameter': {'feet': {'estimated_diameter_max': 117.4965270602,\n",
            "                                                                        'estimated_diameter_min': 52.5460443254},\n",
            "                                                               'kilometers': {'estimated_diameter_max': 0.0358129403,\n",
            "                                                                              'estimated_diameter_min': 0.0160160338},\n",
            "                                                               'meters': {'estimated_diameter_max': 35.8129403019,\n",
            "                                                                          'estimated_diameter_min': 16.0160337979},\n",
            "                                                               'miles': {'estimated_diameter_max': 0.0222531225,\n",
            "                                                                         'estimated_diameter_min': 0.0099518989}},\n",
            "                                        'id': '3732669',\n",
            "                                        'is_potentially_hazardous_asteroid': False,\n",
            "                                        'is_sentry_object': False,\n",
            "                                        'links': {'self': 'http://api.nasa.gov/neo/rest/v1/neo/3732669?api_key=lkh9yVreJRQafd5QYNFWaZvoMr2wsaVCIiXgLWhm'},\n",
            "                                        'name': '(2015 UH52)',\n",
            "                                        'nasa_jpl_url': 'https://ssd.jpl.nasa.gov/tools/sbdb_lookup.html#/?sstr=3732669',\n",
            "                                        'neo_reference_id': '3732669'},\n",
            "                                       {'absolute_magnitude_h': 18.74,\n",
            "                                        'close_approach_data': [{'close_approach_date': '2024-01-20',\n",
            "                                                                 'close_approach_date_full': '2024-Jan-20 '\n",
            "                                                                                             '05:41',\n",
            "                                                                 'epoch_date_close_approach': 1705729260000,\n",
            "                                                                 'miss_distance': {'astronomical': '0.2299425584',\n",
            "                                                                                   'kilometers': '34398916.958990608',\n",
            "                                                                                   'lunar': '89.4476552176',\n",
            "                                                                                   'miles': '21374495.8497740704'},\n",
            "                                                                 'orbiting_body': 'Earth',\n",
            "                                                                 'relative_velocity': {'kilometers_per_hour': '64710.3849698959',\n",
            "                                                                                       'kilometers_per_second': '17.9751069361',\n",
            "                                                                                       'miles_per_hour': '40208.5167053223'}}],\n",
            "                                        'estimated_diameter': {'feet': {'estimated_diameter_max': 3483.5739158824,\n",
            "                                                                        'estimated_diameter_min': 1557.9016161116},\n",
            "                                                               'kilometers': {'estimated_diameter_max': 1.0617932956,\n",
            "                                                                              'estimated_diameter_min': 0.4748483974},\n",
            "                                                               'meters': {'estimated_diameter_max': 1061.7932955836,\n",
            "                                                                          'estimated_diameter_min': 474.8483973957},\n",
            "                                                               'miles': {'estimated_diameter_max': 0.6597675619,\n",
            "                                                                         'estimated_diameter_min': 0.2950570235}},\n",
            "                                        'id': '3825180',\n",
            "                                        'is_potentially_hazardous_asteroid': False,\n",
            "                                        'is_sentry_object': False,\n",
            "                                        'links': {'self': 'http://api.nasa.gov/neo/rest/v1/neo/3825180?api_key=lkh9yVreJRQafd5QYNFWaZvoMr2wsaVCIiXgLWhm'},\n",
            "                                        'name': '(2018 LM4)',\n",
            "                                        'nasa_jpl_url': 'https://ssd.jpl.nasa.gov/tools/sbdb_lookup.html#/?sstr=3825180',\n",
            "                                        'neo_reference_id': '3825180'},\n",
            "                                       {'absolute_magnitude_h': 19.55,\n",
            "                                        'close_approach_data': [{'close_approach_date': '2024-01-20',\n",
            "                                                                 'close_approach_date_full': '2024-Jan-20 '\n",
            "                                                                                             '06:59',\n",
            "                                                                 'epoch_date_close_approach': 1705733940000,\n",
            "                                                                 'miss_distance': {'astronomical': '0.231995374',\n",
            "                                                                                   'kilometers': '34706013.80025338',\n",
            "                                                                                   'lunar': '90.246200486',\n",
            "                                                                                   'miles': '21565316.978441444'},\n",
            "                                                                 'orbiting_body': 'Earth',\n",
            "                                                                 'relative_velocity': {'kilometers_per_hour': '93867.8512802688',\n",
            "                                                                                       'kilometers_per_second': '26.0744031334',\n",
            "                                                                                       'miles_per_hour': '58325.8323691204'}}],\n",
            "                                        'estimated_diameter': {'feet': {'estimated_diameter_max': 2398.9711766574,\n",
            "                                                                        'estimated_diameter_min': 1072.8525254137},\n",
            "                                                               'kilometers': {'estimated_diameter_max': 0.7312063912,\n",
            "                                                                              'estimated_diameter_min': 0.3270054393},\n",
            "                                                               'meters': {'estimated_diameter_max': 731.2063912466,\n",
            "                                                                          'estimated_diameter_min': 327.0054392819},\n",
            "                                                               'miles': {'estimated_diameter_max': 0.4543504465,\n",
            "                                                                         'estimated_diameter_min': 0.2031916968}},\n",
            "                                        'id': '54051316',\n",
            "                                        'is_potentially_hazardous_asteroid': False,\n",
            "                                        'is_sentry_object': False,\n",
            "                                        'links': {'self': 'http://api.nasa.gov/neo/rest/v1/neo/54051316?api_key=lkh9yVreJRQafd5QYNFWaZvoMr2wsaVCIiXgLWhm'},\n",
            "                                        'name': '(2020 QT3)',\n",
            "                                        'nasa_jpl_url': 'https://ssd.jpl.nasa.gov/tools/sbdb_lookup.html#/?sstr=54051316',\n",
            "                                        'neo_reference_id': '54051316'},\n",
            "                                       {'absolute_magnitude_h': 19.55,\n",
            "                                        'close_approach_data': [{'close_approach_date': '2024-01-20',\n",
            "                                                                 'close_approach_date_full': '2024-Jan-20 '\n",
            "                                                                                             '09:06',\n",
            "                                                                 'epoch_date_close_approach': 1705741560000,\n",
            "                                                                 'miss_distance': {'astronomical': '0.3882182287',\n",
            "                                                                                   'kilometers': '58076620.108692869',\n",
            "                                                                                   'lunar': '151.0168909643',\n",
            "                                                                                   'miles': '36087138.3527008322'},\n",
            "                                                                 'orbiting_body': 'Earth',\n",
            "                                                                 'relative_velocity': {'kilometers_per_hour': '44432.0395773656',\n",
            "                                                                                       'kilometers_per_second': '12.3422332159',\n",
            "                                                                                       'miles_per_hour': '27608.3414807248'}}],\n",
            "                                        'estimated_diameter': {'feet': {'estimated_diameter_max': 2398.9711766574,\n",
            "                                                                        'estimated_diameter_min': 1072.8525254137},\n",
            "                                                               'kilometers': {'estimated_diameter_max': 0.7312063912,\n",
            "                                                                              'estimated_diameter_min': 0.3270054393},\n",
            "                                                               'meters': {'estimated_diameter_max': 731.2063912466,\n",
            "                                                                          'estimated_diameter_min': 327.0054392819},\n",
            "                                                               'miles': {'estimated_diameter_max': 0.4543504465,\n",
            "                                                                         'estimated_diameter_min': 0.2031916968}},\n",
            "                                        'id': '54087575',\n",
            "                                        'is_potentially_hazardous_asteroid': False,\n",
            "                                        'is_sentry_object': False,\n",
            "                                        'links': {'self': 'http://api.nasa.gov/neo/rest/v1/neo/54087575?api_key=lkh9yVreJRQafd5QYNFWaZvoMr2wsaVCIiXgLWhm'},\n",
            "                                        'name': '(2020 UG7)',\n",
            "                                        'nasa_jpl_url': 'https://ssd.jpl.nasa.gov/tools/sbdb_lookup.html#/?sstr=54087575',\n",
            "                                        'neo_reference_id': '54087575'},\n",
            "                                       {'absolute_magnitude_h': 25.51,\n",
            "                                        'close_approach_data': [{'close_approach_date': '2024-01-20',\n",
            "                                                                 'close_approach_date_full': '2024-Jan-20 '\n",
            "                                                                                             '15:27',\n",
            "                                                                 'epoch_date_close_approach': 1705764420000,\n",
            "                                                                 'miss_distance': {'astronomical': '0.4392583823',\n",
            "                                                                                   'kilometers': '65712118.371725701',\n",
            "                                                                                   'lunar': '170.8715107147',\n",
            "                                                                                   'miles': '40831616.9689526338'},\n",
            "                                                                 'orbiting_body': 'Earth',\n",
            "                                                                 'relative_velocity': {'kilometers_per_hour': '86283.2334306071',\n",
            "                                                                                       'kilometers_per_second': '23.9675648418',\n",
            "                                                                                       'miles_per_hour': '53613.0457947014'}}],\n",
            "                                        'estimated_diameter': {'feet': {'estimated_diameter_max': 154.1789309435,\n",
            "                                                                        'estimated_diameter_min': 68.9509140576},\n",
            "                                                               'kilometers': {'estimated_diameter_max': 0.0469937366,\n",
            "                                                                              'estimated_diameter_min': 0.0210162379},\n",
            "                                                               'meters': {'estimated_diameter_max': 46.9937366478,\n",
            "                                                                          'estimated_diameter_min': 21.0162379322},\n",
            "                                                               'miles': {'estimated_diameter_max': 0.0292005451,\n",
            "                                                                         'estimated_diameter_min': 0.0130588808}},\n",
            "                                        'id': '54100694',\n",
            "                                        'is_potentially_hazardous_asteroid': False,\n",
            "                                        'is_sentry_object': False,\n",
            "                                        'links': {'self': 'http://api.nasa.gov/neo/rest/v1/neo/54100694?api_key=lkh9yVreJRQafd5QYNFWaZvoMr2wsaVCIiXgLWhm'},\n",
            "                                        'name': '(2020 YT)',\n",
            "                                        'nasa_jpl_url': 'https://ssd.jpl.nasa.gov/tools/sbdb_lookup.html#/?sstr=54100694',\n",
            "                                        'neo_reference_id': '54100694'},\n",
            "                                       {'absolute_magnitude_h': 26.53,\n",
            "                                        'close_approach_data': [{'close_approach_date': '2024-01-20',\n",
            "                                                                 'close_approach_date_full': '2024-Jan-20 '\n",
            "                                                                                             '02:26',\n",
            "                                                                 'epoch_date_close_approach': 1705717560000,\n",
            "                                                                 'miss_distance': {'astronomical': '0.4210273691',\n",
            "                                                                                   'kilometers': '62984797.629063817',\n",
            "                                                                                   'lunar': '163.7796465799',\n",
            "                                                                                   'miles': '39136938.4427499946'},\n",
            "                                                                 'orbiting_body': 'Earth',\n",
            "                                                                 'relative_velocity': {'kilometers_per_hour': '51693.4843596637',\n",
            "                                                                                       'kilometers_per_second': '14.359301211',\n",
            "                                                                                       'miles_per_hour': '32120.3208789255'}}],\n",
            "                                        'estimated_diameter': {'feet': {'estimated_diameter_max': 96.3884574272,\n",
            "                                                                        'estimated_diameter_min': 43.1062286107},\n",
            "                                                               'kilometers': {'estimated_diameter_max': 0.0293792009,\n",
            "                                                                              'estimated_diameter_min': 0.0131387781},\n",
            "                                                               'meters': {'estimated_diameter_max': 29.3792008837,\n",
            "                                                                          'estimated_diameter_min': 13.1387780601},\n",
            "                                                               'miles': {'estimated_diameter_max': 0.0182553834,\n",
            "                                                                         'estimated_diameter_min': 0.0081640557}},\n",
            "                                        'id': '54278317',\n",
            "                                        'is_potentially_hazardous_asteroid': False,\n",
            "                                        'is_sentry_object': False,\n",
            "                                        'links': {'self': 'http://api.nasa.gov/neo/rest/v1/neo/54278317?api_key=lkh9yVreJRQafd5QYNFWaZvoMr2wsaVCIiXgLWhm'},\n",
            "                                        'name': '(2022 JL1)',\n",
            "                                        'nasa_jpl_url': 'https://ssd.jpl.nasa.gov/tools/sbdb_lookup.html#/?sstr=54278317',\n",
            "                                        'neo_reference_id': '54278317'},\n",
            "                                       {'absolute_magnitude_h': 24.12,\n",
            "                                        'close_approach_data': [{'close_approach_date': '2024-01-20',\n",
            "                                                                 'close_approach_date_full': '2024-Jan-20 '\n",
            "                                                                                             '19:10',\n",
            "                                                                 'epoch_date_close_approach': 1705777800000,\n",
            "                                                                 'miss_distance': {'astronomical': '0.0522934117',\n",
            "                                                                                   'kilometers': '7822983.005353079',\n",
            "                                                                                   'lunar': '20.3421371513',\n",
            "                                                                                   'miles': '4860976.2330633302'},\n",
            "                                                                 'orbiting_body': 'Earth',\n",
            "                                                                 'relative_velocity': {'kilometers_per_hour': '22550.2302614503',\n",
            "                                                                                       'kilometers_per_second': '6.2639528504',\n",
            "                                                                                       'miles_per_hour': '14011.8361310662'}}],\n",
            "                                        'estimated_diameter': {'feet': {'estimated_diameter_max': 292.4320912466,\n",
            "                                                                        'estimated_diameter_min': 130.779606966},\n",
            "                                                               'kilometers': {'estimated_diameter_max': 0.0891332986,\n",
            "                                                                              'estimated_diameter_min': 0.0398616229},\n",
            "                                                               'meters': {'estimated_diameter_max': 89.1332985597,\n",
            "                                                                          'estimated_diameter_min': 39.8616229277},\n",
            "                                                               'miles': {'estimated_diameter_max': 0.0553848469,\n",
            "                                                                         'estimated_diameter_min': 0.0247688565}},\n",
            "                                        'id': '54415869',\n",
            "                                        'is_potentially_hazardous_asteroid': False,\n",
            "                                        'is_sentry_object': False,\n",
            "                                        'links': {'self': 'http://api.nasa.gov/neo/rest/v1/neo/54415869?api_key=lkh9yVreJRQafd5QYNFWaZvoMr2wsaVCIiXgLWhm'},\n",
            "                                        'name': '(2023 XX7)',\n",
            "                                        'nasa_jpl_url': 'https://ssd.jpl.nasa.gov/tools/sbdb_lookup.html#/?sstr=54415869',\n",
            "                                        'neo_reference_id': '54415869'},\n",
            "                                       {'absolute_magnitude_h': 27.091,\n",
            "                                        'close_approach_data': [{'close_approach_date': '2024-01-20',\n",
            "                                                                 'close_approach_date_full': '2024-Jan-20 '\n",
            "                                                                                             '04:25',\n",
            "                                                                 'epoch_date_close_approach': 1705724700000,\n",
            "                                                                 'miss_distance': {'astronomical': '0.0056585085',\n",
            "                                                                                   'kilometers': '846500.818976895',\n",
            "                                                                                   'lunar': '2.2011598065',\n",
            "                                                                                   'miles': '525991.218375351'},\n",
            "                                                                 'orbiting_body': 'Earth',\n",
            "                                                                 'relative_velocity': {'kilometers_per_hour': '67983.0323711054',\n",
            "                                                                                       'kilometers_per_second': '18.8841756586',\n",
            "                                                                                       'miles_per_hour': '42242.0125308127'}}],\n",
            "                                        'estimated_diameter': {'feet': {'estimated_diameter_max': 74.4431994261,\n",
            "                                                                        'estimated_diameter_min': 33.2920108759},\n",
            "                                                               'kilometers': {'estimated_diameter_max': 0.0226902865,\n",
            "                                                                              'estimated_diameter_min': 0.0101474046},\n",
            "                                                               'meters': {'estimated_diameter_max': 22.690286459,\n",
            "                                                                          'estimated_diameter_min': 10.1474045902},\n",
            "                                                               'miles': {'estimated_diameter_max': 0.014099086,\n",
            "                                                                         'estimated_diameter_min': 0.0063053029}},\n",
            "                                        'id': '54421065',\n",
            "                                        'is_potentially_hazardous_asteroid': False,\n",
            "                                        'is_sentry_object': False,\n",
            "                                        'links': {'self': 'http://api.nasa.gov/neo/rest/v1/neo/54421065?api_key=lkh9yVreJRQafd5QYNFWaZvoMr2wsaVCIiXgLWhm'},\n",
            "                                        'name': '(2024 BC)',\n",
            "                                        'nasa_jpl_url': 'https://ssd.jpl.nasa.gov/tools/sbdb_lookup.html#/?sstr=54421065',\n",
            "                                        'neo_reference_id': '54421065'}]}}\n"
          ]
        }
      ],
      "source": [
        "API_KEY = 'lkh9yVreJRQafd5QYNFWaZvoMr2wsaVCIiXgLWhm'  # substitute your API key here\n",
        "# str(datetime.date.today())\n",
        "today = str(datetime.date.today()) #  Future enhancement:  str(datetime.date.today())   # Today's date as a string!\n",
        "# Use an f-string here to \"format\" the date and API key varaibles.\n",
        "url = f'https://api.nasa.gov/neo/rest/v1/feed?start_date={today}&end_date={today}&api_key={API_KEY}'\n",
        "\n",
        "response = requests.request(\"GET\", url, headers={}, data={})\n",
        "\n",
        "data = json.loads(response.text)  # recall json.loads for lab 1\n",
        "\n",
        "# TIP: print(data) to see the whole data structure returned, here we grab just the list of NEO's:\n",
        "pprint(data)\n",
        "# n_results = data['element_count']\n",
        "# neos = data['near_earth_objects'][today]\n",
        "# print(f'{n_results} Near Earth Objects found for {today}')\n",
        "# pprint(neos[:5])\n",
        "\n"
      ],
      "metadata": {
        "pycharm": {
          "name": "#%%\n"
        },
        "ExecuteTime": {
          "end_time": "2024-01-04T04:05:43.064157Z",
          "start_time": "2024-01-04T04:05:38.691252Z"
        },
        "id": "0mcgQrzLRC_u",
        "outputId": "ea82cad4-e775-4def-af6e-aae82f6cf377",
        "colab": {
          "base_uri": "https://localhost:8080/"
        }
      }
    },
    {
      "cell_type": "markdown",
      "source": [
        "Next we extract just the potentially hazerdous asteroids, using a Comp115-style list accumulator *loop*:"
      ],
      "metadata": {
        "collapsed": false,
        "pycharm": {
          "name": "#%% md\n"
        },
        "id": "jIkWdXIXRC_u"
      }
    },
    {
      "cell_type": "code",
      "execution_count": 9,
      "metadata": {
        "id": "JDGbYTySU3BP",
        "ExecuteTime": {
          "end_time": "2024-01-04T04:05:43.065108Z",
          "start_time": "2024-01-04T04:05:43.062239Z"
        },
        "outputId": "1400899d-80ea-49fa-a843-3974ca7e3b44",
        "colab": {
          "base_uri": "https://localhost:8080/",
          "height": 246
        }
      },
      "outputs": [
        {
          "output_type": "error",
          "ename": "NameError",
          "evalue": "name 'neos' is not defined",
          "traceback": [
            "\u001b[0;31m---------------------------------------------------------------------------\u001b[0m",
            "\u001b[0;31mNameError\u001b[0m                                 Traceback (most recent call last)",
            "\u001b[0;32m<ipython-input-9-122edab8c1ae>\u001b[0m in \u001b[0;36m<cell line: 2>\u001b[0;34m()\u001b[0m\n\u001b[1;32m      1\u001b[0m \u001b[0mhazards\u001b[0m \u001b[0;34m=\u001b[0m  \u001b[0;34m[\u001b[0m\u001b[0;34m]\u001b[0m\u001b[0;34m\u001b[0m\u001b[0;34m\u001b[0m\u001b[0m\n\u001b[0;32m----> 2\u001b[0;31m \u001b[0;32mfor\u001b[0m \u001b[0mitem\u001b[0m \u001b[0;32min\u001b[0m \u001b[0mneos\u001b[0m\u001b[0;34m:\u001b[0m\u001b[0;34m\u001b[0m\u001b[0;34m\u001b[0m\u001b[0m\n\u001b[0m\u001b[1;32m      3\u001b[0m   \u001b[0;32mif\u001b[0m \u001b[0mitem\u001b[0m\u001b[0;34m[\u001b[0m\u001b[0;34m'is_potentially_hazardous_asteroid'\u001b[0m\u001b[0;34m]\u001b[0m \u001b[0;32mis\u001b[0m \u001b[0;32mTrue\u001b[0m\u001b[0;34m:\u001b[0m\u001b[0;34m\u001b[0m\u001b[0;34m\u001b[0m\u001b[0m\n\u001b[1;32m      4\u001b[0m     \u001b[0mhazards\u001b[0m\u001b[0;34m.\u001b[0m\u001b[0mappend\u001b[0m\u001b[0;34m(\u001b[0m\u001b[0mitem\u001b[0m\u001b[0;34m)\u001b[0m\u001b[0;34m\u001b[0m\u001b[0;34m\u001b[0m\u001b[0m\n\u001b[1;32m      5\u001b[0m \u001b[0mprint\u001b[0m\u001b[0;34m(\u001b[0m\u001b[0;34mf'{len(hazards)} potentially hazardous asteroids identified.'\u001b[0m\u001b[0;34m)\u001b[0m\u001b[0;34m\u001b[0m\u001b[0;34m\u001b[0m\u001b[0m\n",
            "\u001b[0;31mNameError\u001b[0m: name 'neos' is not defined"
          ]
        }
      ],
      "source": [
        "hazards =  []\n",
        "for item in neos:\n",
        "  if item['is_potentially_hazardous_asteroid'] is True:\n",
        "    hazards.append(item)\n",
        "print(f'{len(hazards)} potentially hazardous asteroids identified.')"
      ]
    },
    {
      "cell_type": "markdown",
      "source": [
        "## Exercise 1\n",
        "\n",
        "In the code cell below, **re-write the accumulator loop above** as a [list comprehension](https://realpython.com/lessons/list-comprehensions-overview/) that implements a [\"filter\"](https://youtu.be/hUes6y2b--0)\n",
        "Notice how this provides a concise way to \"filter\" items of interest from a larger data set."
      ],
      "metadata": {
        "collapsed": false,
        "pycharm": {
          "name": "#%% md\n"
        },
        "id": "sj11bXPhRC_v"
      }
    },
    {
      "cell_type": "code",
      "execution_count": null,
      "outputs": [],
      "source": [
        "# Ex. 1 your code here\n",
        "\n",
        "hazards = [item for item in neos if item['is_potentially_hazardous_asteroid']]\n",
        "\n",
        "# pprint(hazards)\n",
        "\n",
        "print(f'{len(hazards)} potentially hazardous asteroids identified.')"
      ],
      "metadata": {
        "pycharm": {
          "name": "#%%\n"
        },
        "ExecuteTime": {
          "end_time": "2024-01-04T04:05:43.069849Z",
          "start_time": "2024-01-04T04:05:43.065922Z"
        },
        "id": "7A4e_mHNRC_w"
      }
    },
    {
      "cell_type": "markdown",
      "source": [
        "## Fetch Complete Data for One Asteroid\n",
        "\n",
        "Notice that the record for each `neo` is a dictionary with `id` field that uniquely identifies this record in the database.\n",
        "\n",
        "We can use this `id` to fetch complete orbital and close approach data for the NEO.\n",
        "\n",
        "For example, this query fetches the complete data set for the first hazardous asteroid...\n"
      ],
      "metadata": {
        "collapsed": false,
        "pycharm": {
          "name": "#%% md\n"
        },
        "id": "ShNTsfhvRC_x"
      }
    },
    {
      "cell_type": "code",
      "execution_count": null,
      "outputs": [],
      "source": [
        "id = hazards[0]['id']\n",
        "url = f'https://api.nasa.gov/neo/rest/v1/neo/{id}?api_key={API_KEY}'\n",
        "response = requests.request(\"GET\", url, headers={}, data={})\n",
        "cop_data = json.loads(response.text)\n",
        "\n",
        "pprint(cop_data)\n"
      ],
      "metadata": {
        "pycharm": {
          "name": "#%%\n"
        },
        "ExecuteTime": {
          "end_time": "2024-01-04T04:05:43.787125Z",
          "start_time": "2024-01-04T04:05:43.067936Z"
        },
        "id": "2dbrcyipRC_x"
      }
    },
    {
      "cell_type": "markdown",
      "source": [
        "Notice that the `miss_distance` field contains the distance (in various units) by which the NEO missed an \"orbiting body\".\n",
        "\n",
        "## Exercise 2\n",
        "\n",
        "In the code cell below, write a python function that takes a list of \"close approach data\" as a parameter,\n",
        "and returns a 2-tuple with the (date, miss km) of the closest approach to Earth in the list (where \"miss km\" is the miss distance in km).\n",
        "\n",
        "Hints:\n",
        "* notice the input is a list of dictionaries.  Each dictionary has a 'close_approach_date\", \"orbiting_body\", and 'miss_distance' field.\n",
        "* we are only interested in the closest approach to \"Earth\"\n",
        "* use a loop if that is easier to understand - we will look at more compact algorithms to solve this problem in class.\n",
        "\n",
        "Add at least one unit test to check your work - note the test data only needs dictionaries with the fields your function actually uses.\n"
      ],
      "metadata": {
        "id": "DNRs7ynOYwYk"
      }
    },
    {
      "cell_type": "code",
      "source": [
        "# Ex. 2 your code here\n",
        "# test_data = cop_data['close_approach_data']\n",
        "test_data = [{\n",
        "        'close_approach_date': '2024-01-20',\n",
        "        'orbiting_body': 'Earth',\n",
        "        'miss_distance': {'kilometers': '10000'}\n",
        "    },\n",
        "    {\n",
        "        'close_approach_date': '2024-01-21',\n",
        "        'orbiting_body': 'Earth',\n",
        "        'miss_distance': {'kilometers': '7500'}\n",
        "    },\n",
        "    {\n",
        "        'close_approach_date': '2024-01-22',\n",
        "        'orbiting_body': 'Earth',\n",
        "        'miss_distance': {'kilometers': '12000'}\n",
        "    }]\n",
        "\n",
        "def closest_approach_to_earth(close_ap_data):\n",
        "        dates_distances = tuple(zip([iterator['close_approach_date'] for iterator in close_ap_data if iterator['orbiting_body']=='Earth'],[float(iterator['miss_distance']['kilometers']) for iterator in close_ap_data if iterator['orbiting_body']=='Earth']))\n",
        "\n",
        "        dist = [float(iterator['miss_distance']['kilometers']) for iterator in close_ap_data if iterator['orbiting_body']=='Earth']\n",
        "        minimum_distance = min(dist)\n",
        "        answer = [tuple_item for tuple_item in dates_distances if tuple_item[1] == minimum_distance]\n",
        "\n",
        "        return tuple(answer)\n",
        "\n",
        "\n",
        "closest_approach_to_earth(test_data)\n",
        "\n",
        "assert returnTuple(test_data) == (('2024-01-21', 7500.0),) ,\"Incorrect value returned instead of ('2024-01-21', 7500.0)\"\n"
      ],
      "metadata": {
        "id": "tiyXTDfnZAd0",
        "ExecuteTime": {
          "end_time": "2024-01-04T04:05:43.790535Z",
          "start_time": "2024-01-04T04:05:43.787064Z"
        }
      },
      "execution_count": null,
      "outputs": []
    },
    {
      "cell_type": "markdown",
      "source": [
        "## Challenge - Take your skills to the next level...\n",
        "## Exercise 3\n",
        "\n",
        "In the code cell below, write a complete program that:\n",
        " 1. fetches the list of NEO's for this week.\n",
        " 2. for each NEO, fetch it's complete orbital data and determine its closest approach to Earth\n",
        " 3. identify which NEO from this week's data makes the closet approach to earth\n",
        " 4. print a nice message with information about the NEO, which it will approach the Earth, and how close it will come.\n",
        "\n",
        "Hints:\n",
        "* you'll need the start and end date - end date is today, see if you can use a [`timedelta`](https://docs.python.org/3/library/datetime.html#timedelta-objects) object to ge the start date (you can do basic \"date math\" with `timedelta` and `date` objects!)\n",
        "* you may need to modify the function we wrote in Ex. 2 to return a triple with the NEO's id included;\n",
        "* lots of opportunity here for more practice with list comprehensions\n"
      ],
      "metadata": {
        "collapsed": false,
        "id": "uEABcVBHRC_y"
      }
    },
    {
      "cell_type": "code",
      "source": [
        "# Ex. 3 (challenge) your code here\n",
        "from datetime import timedelta\n",
        "\n",
        "API_KEY = 'lkh9yVreJRQafd5QYNFWaZvoMr2wsaVCIiXgLWhm'\n",
        "\n",
        "\n",
        "#this code assumes that week starts from Monday because Sundays are fun! and mondays, well...\n",
        "today = (datetime.date.today())\n",
        "\n",
        "start_date = str(today - timedelta(days=today.weekday()))\n",
        "end_date = str(today)\n",
        "url = f'https://api.nasa.gov/neo/rest/v1/feed?start_date={start_date}&end_date={today}&api_key={API_KEY}'\n",
        "\n",
        "request_response = requests.request(\"GET\", url, headers={}, data={})\n",
        "\n",
        "returned_data = json.loads(request_response.text)\n",
        "\n",
        "# # TIP: print(data) to see the whole data structure returned, here we grab just the list of NEO's:\n",
        "neo_dict = returned_data['near_earth_objects']\n",
        "for i in neo_dict:\n",
        "    pprint(neo_dict[i][0]['close_approach_data'][0]['close_approach_date'])\n",
        ""
      ],
      "metadata": {
        "id": "Ds1YevErlzCe",
        "pycharm": {
          "name": "#%%\n"
        },
        "ExecuteTime": {
          "end_time": "2024-01-04T04:05:43.790766Z",
          "start_time": "2024-01-04T04:05:43.789211Z"
        },
        "colab": {
          "base_uri": "https://localhost:8080/"
        },
        "outputId": "3765084d-80c6-4dc4-8cbe-5c4d7f7ac384"
      },
      "execution_count": 58,
      "outputs": [
        {
          "output_type": "stream",
          "name": "stdout",
          "text": [
            "'2024-01-15'\n",
            "'2024-01-17'\n",
            "'2024-01-16'\n",
            "'2024-01-19'\n",
            "'2024-01-18'\n",
            "'2024-01-20'\n"
          ]
        }
      ]
    },
    {
      "cell_type": "code",
      "source": [],
      "metadata": {
        "id": "UDEJ2g3kEHde"
      },
      "execution_count": null,
      "outputs": []
    }
  ]
}