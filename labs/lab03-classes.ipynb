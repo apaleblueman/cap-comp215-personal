{
  "nbformat": 4,
  "nbformat_minor": 0,
  "metadata": {
    "colab": {
      "name": "Lab2-NEO.ipynb",
      "provenance": [],
      "include_colab_link": true
    },
    "kernelspec": {
      "name": "python3",
      "language": "python",
      "display_name": "Python 3 (ipykernel)"
    },
    "language_info": {
      "name": "python"
    }
  },
  "cells": [
    {
      "cell_type": "markdown",
      "metadata": {
        "id": "view-in-github",
        "colab_type": "text"
      },
      "source": [
        "<a href=\"https://colab.research.google.com/github/apaleblueman/cap-comp215-personal/blob/main/labs/lab03-classes.ipynb\" target=\"_parent\"><img src=\"https://colab.research.google.com/assets/colab-badge.svg\" alt=\"Open In Colab\"/></a>"
      ]
    },
    {
      "cell_type": "markdown",
      "source": [
        "COMP 215 - LAB 3 Classes (NEO)\n",
        "----------------\n",
        "#### Name: Gurchetan Singh\n",
        "#### Date: 27 january 2024\n",
        "\n",
        "This lab exercise introduces `class` as a means of organizing related data and functions.\n",
        "\n",
        "**Building on new concepts from lab 2**:\n",
        "  * a `record` is a related collection of data, with fields for each data value\n",
        "  * an `API` is an \"Application Programmers Interface\" defining how a programmer interacts with a system.\n",
        "  * *f-string* simplifies string formatting operations\n",
        "\n",
        "**New Python Concepts**:\n",
        "  * the `class` keyword allows you define a new data `type`, with a set of operations on that data.\n",
        "  * a `dataclass` simplifies class definition for classes that primarily encapsulate a data structure.\n",
        "\n",
        "As usual, the first code cell simply imports all the modules we'll be using..."
      ],
      "metadata": {
        "id": "nbRPZPKZU5Pk"
      }
    },
    {
      "cell_type": "code",
      "execution_count": 54,
      "outputs": [],
      "source": [
        "import datetime, json, requests\n",
        "from pprint import pprint    # Pretty Print - built-in python function to nicely format data structures"
      ],
      "metadata": {
        "pycharm": {
          "name": "#%%\n"
        },
        "ExecuteTime": {
          "end_time": "2024-01-04T04:10:54.380220Z",
          "start_time": "2024-01-04T04:10:54.335677Z"
        },
        "id": "uhyVOEj4UeUw"
      }
    },
    {
      "cell_type": "markdown",
      "source": [
        "We'll continue working with [Near Earth Object](https://cneos.jpl.nasa.gov/) data\n",
        "> using NASA's API:  [https://api.nasa.gov/](https://api.nasa.gov/#NeoWS)\n",
        "\n",
        "Here's a brief review from Lab 2 on how to use it..."
      ],
      "metadata": {
        "collapsed": false,
        "pycharm": {
          "name": "#%% md\n"
        },
        "id": "gsPPue2zUeUw"
      }
    },
    {
      "cell_type": "markdown",
      "source": [
        "### Review: making a query\n",
        "\n",
        "Here's a query that gets the record for a single NEO that recently passed by."
      ],
      "metadata": {
        "collapsed": false,
        "pycharm": {
          "name": "#%% md\n"
        },
        "id": "o6uD9Lf-UeUx"
      }
    },
    {
      "cell_type": "code",
      "execution_count": 55,
      "outputs": [
        {
          "output_type": "error",
          "ename": "JSONDecodeError",
          "evalue": "Expecting value: line 1 column 1 (char 0)",
          "traceback": [
            "\u001b[0;31m---------------------------------------------------------------------------\u001b[0m",
            "\u001b[0;31mJSONDecodeError\u001b[0m                           Traceback (most recent call last)",
            "\u001b[0;32m<ipython-input-55-b3a515fa7634>\u001b[0m in \u001b[0;36m<cell line: 19>\u001b[0;34m()\u001b[0m\n\u001b[1;32m     17\u001b[0m \u001b[0;34m\u001b[0m\u001b[0m\n\u001b[1;32m     18\u001b[0m \u001b[0mweek_start\u001b[0m \u001b[0;34m=\u001b[0m \u001b[0;34m'2023-01-15'\u001b[0m\u001b[0;34m\u001b[0m\u001b[0;34m\u001b[0m\u001b[0m\n\u001b[0;32m---> 19\u001b[0;31m \u001b[0mneos\u001b[0m \u001b[0;34m=\u001b[0m \u001b[0mget_neos\u001b[0m\u001b[0;34m(\u001b[0m\u001b[0mweek_start\u001b[0m\u001b[0;34m)\u001b[0m\u001b[0;34m\u001b[0m\u001b[0;34m\u001b[0m\u001b[0m\n\u001b[0m\u001b[1;32m     20\u001b[0m \u001b[0;32massert\u001b[0m \u001b[0mlen\u001b[0m\u001b[0;34m(\u001b[0m\u001b[0mneos\u001b[0m\u001b[0;34m)\u001b[0m \u001b[0;34m>\u001b[0m \u001b[0;36m0\u001b[0m\u001b[0;34m,\u001b[0m \u001b[0;34mf'Oh oh!  No NEOs found for {week_start}'\u001b[0m\u001b[0;34m\u001b[0m\u001b[0;34m\u001b[0m\u001b[0m\n\u001b[1;32m     21\u001b[0m \u001b[0mneo\u001b[0m \u001b[0;34m=\u001b[0m \u001b[0mget_neo\u001b[0m\u001b[0;34m(\u001b[0m\u001b[0mneos\u001b[0m\u001b[0;34m[\u001b[0m\u001b[0;34m-\u001b[0m\u001b[0;36m1\u001b[0m\u001b[0;34m]\u001b[0m\u001b[0;34m[\u001b[0m\u001b[0;34m'id'\u001b[0m\u001b[0;34m]\u001b[0m\u001b[0;34m)\u001b[0m  \u001b[0;31m# get the very latest NEO\u001b[0m\u001b[0;34m\u001b[0m\u001b[0;34m\u001b[0m\u001b[0m\n",
            "\u001b[0;32m<ipython-input-55-b3a515fa7634>\u001b[0m in \u001b[0;36mget_neos\u001b[0;34m(start_date)\u001b[0m\n\u001b[1;32m      6\u001b[0m     \u001b[0;31m# Fetch last week's NEO feed\u001b[0m\u001b[0;34m\u001b[0m\u001b[0;34m\u001b[0m\u001b[0m\n\u001b[1;32m      7\u001b[0m     \u001b[0mresponse\u001b[0m \u001b[0;34m=\u001b[0m \u001b[0mrequests\u001b[0m\u001b[0;34m.\u001b[0m\u001b[0mrequest\u001b[0m\u001b[0;34m(\u001b[0m\u001b[0;34m\"GET\"\u001b[0m\u001b[0;34m,\u001b[0m \u001b[0murl\u001b[0m\u001b[0;34m,\u001b[0m \u001b[0mheaders\u001b[0m\u001b[0;34m=\u001b[0m\u001b[0;34m{\u001b[0m\u001b[0;34m}\u001b[0m\u001b[0;34m,\u001b[0m \u001b[0mdata\u001b[0m\u001b[0;34m=\u001b[0m\u001b[0;34m{\u001b[0m\u001b[0;34m}\u001b[0m\u001b[0;34m)\u001b[0m\u001b[0;34m\u001b[0m\u001b[0;34m\u001b[0m\u001b[0m\n\u001b[0;32m----> 8\u001b[0;31m     \u001b[0mdata\u001b[0m \u001b[0;34m=\u001b[0m \u001b[0mjson\u001b[0m\u001b[0;34m.\u001b[0m\u001b[0mloads\u001b[0m\u001b[0;34m(\u001b[0m\u001b[0mresponse\u001b[0m\u001b[0;34m.\u001b[0m\u001b[0mtext\u001b[0m\u001b[0;34m)\u001b[0m\u001b[0;34m\u001b[0m\u001b[0;34m\u001b[0m\u001b[0m\n\u001b[0m\u001b[1;32m      9\u001b[0m     \u001b[0mprint\u001b[0m\u001b[0;34m(\u001b[0m\u001b[0;34mf'{data[\"element_count\"]} Near Earth Objects found for week of {start_date}'\u001b[0m\u001b[0;34m)\u001b[0m\u001b[0;34m\u001b[0m\u001b[0;34m\u001b[0m\u001b[0m\n\u001b[1;32m     10\u001b[0m     \u001b[0;32mreturn\u001b[0m \u001b[0;34m[\u001b[0m\u001b[0mneo\u001b[0m \u001b[0;32mfor\u001b[0m \u001b[0mdated_records\u001b[0m \u001b[0;32min\u001b[0m \u001b[0mdata\u001b[0m\u001b[0;34m[\u001b[0m\u001b[0;34m'near_earth_objects'\u001b[0m\u001b[0;34m]\u001b[0m\u001b[0;34m.\u001b[0m\u001b[0mvalues\u001b[0m\u001b[0;34m(\u001b[0m\u001b[0;34m)\u001b[0m \u001b[0;32mfor\u001b[0m \u001b[0mneo\u001b[0m \u001b[0;32min\u001b[0m \u001b[0mdated_records\u001b[0m \u001b[0;34m]\u001b[0m\u001b[0;34m\u001b[0m\u001b[0;34m\u001b[0m\u001b[0m\n",
            "\u001b[0;32m/usr/lib/python3.10/json/__init__.py\u001b[0m in \u001b[0;36mloads\u001b[0;34m(s, cls, object_hook, parse_float, parse_int, parse_constant, object_pairs_hook, **kw)\u001b[0m\n\u001b[1;32m    344\u001b[0m             \u001b[0mparse_int\u001b[0m \u001b[0;32mis\u001b[0m \u001b[0;32mNone\u001b[0m \u001b[0;32mand\u001b[0m \u001b[0mparse_float\u001b[0m \u001b[0;32mis\u001b[0m \u001b[0;32mNone\u001b[0m \u001b[0;32mand\u001b[0m\u001b[0;34m\u001b[0m\u001b[0;34m\u001b[0m\u001b[0m\n\u001b[1;32m    345\u001b[0m             parse_constant is None and object_pairs_hook is None and not kw):\n\u001b[0;32m--> 346\u001b[0;31m         \u001b[0;32mreturn\u001b[0m \u001b[0m_default_decoder\u001b[0m\u001b[0;34m.\u001b[0m\u001b[0mdecode\u001b[0m\u001b[0;34m(\u001b[0m\u001b[0ms\u001b[0m\u001b[0;34m)\u001b[0m\u001b[0;34m\u001b[0m\u001b[0;34m\u001b[0m\u001b[0m\n\u001b[0m\u001b[1;32m    347\u001b[0m     \u001b[0;32mif\u001b[0m \u001b[0mcls\u001b[0m \u001b[0;32mis\u001b[0m \u001b[0;32mNone\u001b[0m\u001b[0;34m:\u001b[0m\u001b[0;34m\u001b[0m\u001b[0;34m\u001b[0m\u001b[0m\n\u001b[1;32m    348\u001b[0m         \u001b[0mcls\u001b[0m \u001b[0;34m=\u001b[0m \u001b[0mJSONDecoder\u001b[0m\u001b[0;34m\u001b[0m\u001b[0;34m\u001b[0m\u001b[0m\n",
            "\u001b[0;32m/usr/lib/python3.10/json/decoder.py\u001b[0m in \u001b[0;36mdecode\u001b[0;34m(self, s, _w)\u001b[0m\n\u001b[1;32m    335\u001b[0m \u001b[0;34m\u001b[0m\u001b[0m\n\u001b[1;32m    336\u001b[0m         \"\"\"\n\u001b[0;32m--> 337\u001b[0;31m         \u001b[0mobj\u001b[0m\u001b[0;34m,\u001b[0m \u001b[0mend\u001b[0m \u001b[0;34m=\u001b[0m \u001b[0mself\u001b[0m\u001b[0;34m.\u001b[0m\u001b[0mraw_decode\u001b[0m\u001b[0;34m(\u001b[0m\u001b[0ms\u001b[0m\u001b[0;34m,\u001b[0m \u001b[0midx\u001b[0m\u001b[0;34m=\u001b[0m\u001b[0m_w\u001b[0m\u001b[0;34m(\u001b[0m\u001b[0ms\u001b[0m\u001b[0;34m,\u001b[0m \u001b[0;36m0\u001b[0m\u001b[0;34m)\u001b[0m\u001b[0;34m.\u001b[0m\u001b[0mend\u001b[0m\u001b[0;34m(\u001b[0m\u001b[0;34m)\u001b[0m\u001b[0;34m)\u001b[0m\u001b[0;34m\u001b[0m\u001b[0;34m\u001b[0m\u001b[0m\n\u001b[0m\u001b[1;32m    338\u001b[0m         \u001b[0mend\u001b[0m \u001b[0;34m=\u001b[0m \u001b[0m_w\u001b[0m\u001b[0;34m(\u001b[0m\u001b[0ms\u001b[0m\u001b[0;34m,\u001b[0m \u001b[0mend\u001b[0m\u001b[0;34m)\u001b[0m\u001b[0;34m.\u001b[0m\u001b[0mend\u001b[0m\u001b[0;34m(\u001b[0m\u001b[0;34m)\u001b[0m\u001b[0;34m\u001b[0m\u001b[0;34m\u001b[0m\u001b[0m\n\u001b[1;32m    339\u001b[0m         \u001b[0;32mif\u001b[0m \u001b[0mend\u001b[0m \u001b[0;34m!=\u001b[0m \u001b[0mlen\u001b[0m\u001b[0;34m(\u001b[0m\u001b[0ms\u001b[0m\u001b[0;34m)\u001b[0m\u001b[0;34m:\u001b[0m\u001b[0;34m\u001b[0m\u001b[0;34m\u001b[0m\u001b[0m\n",
            "\u001b[0;32m/usr/lib/python3.10/json/decoder.py\u001b[0m in \u001b[0;36mraw_decode\u001b[0;34m(self, s, idx)\u001b[0m\n\u001b[1;32m    353\u001b[0m             \u001b[0mobj\u001b[0m\u001b[0;34m,\u001b[0m \u001b[0mend\u001b[0m \u001b[0;34m=\u001b[0m \u001b[0mself\u001b[0m\u001b[0;34m.\u001b[0m\u001b[0mscan_once\u001b[0m\u001b[0;34m(\u001b[0m\u001b[0ms\u001b[0m\u001b[0;34m,\u001b[0m \u001b[0midx\u001b[0m\u001b[0;34m)\u001b[0m\u001b[0;34m\u001b[0m\u001b[0;34m\u001b[0m\u001b[0m\n\u001b[1;32m    354\u001b[0m         \u001b[0;32mexcept\u001b[0m \u001b[0mStopIteration\u001b[0m \u001b[0;32mas\u001b[0m \u001b[0merr\u001b[0m\u001b[0;34m:\u001b[0m\u001b[0;34m\u001b[0m\u001b[0;34m\u001b[0m\u001b[0m\n\u001b[0;32m--> 355\u001b[0;31m             \u001b[0;32mraise\u001b[0m \u001b[0mJSONDecodeError\u001b[0m\u001b[0;34m(\u001b[0m\u001b[0;34m\"Expecting value\"\u001b[0m\u001b[0;34m,\u001b[0m \u001b[0ms\u001b[0m\u001b[0;34m,\u001b[0m \u001b[0merr\u001b[0m\u001b[0;34m.\u001b[0m\u001b[0mvalue\u001b[0m\u001b[0;34m)\u001b[0m \u001b[0;32mfrom\u001b[0m \u001b[0;32mNone\u001b[0m\u001b[0;34m\u001b[0m\u001b[0;34m\u001b[0m\u001b[0m\n\u001b[0m\u001b[1;32m    356\u001b[0m         \u001b[0;32mreturn\u001b[0m \u001b[0mobj\u001b[0m\u001b[0;34m,\u001b[0m \u001b[0mend\u001b[0m\u001b[0;34m\u001b[0m\u001b[0;34m\u001b[0m\u001b[0m\n",
            "\u001b[0;31mJSONDecodeError\u001b[0m: Expecting value: line 1 column 1 (char 0)"
          ]
        }
      ],
      "source": [
        "API_KEY = 'DEMO_KEY'  # substitute your API key here\n",
        "\n",
        "def get_neos(start_date):\n",
        "    \"\"\" Return a list of NEO for the week starting at start_date \"\"\"\n",
        "    url = f'https://api.nasa.gov/neo/rest/v1/feed?start_date={start_date}&api_key={API_KEY}'\n",
        "    # Fetch last week's NEO feed\n",
        "    response = requests.request(\"GET\", url, headers={}, data={})\n",
        "    data = json.loads(response.text)\n",
        "    print(f'{data[\"element_count\"]} Near Earth Objects found for week of {start_date}')\n",
        "    return [neo for dated_records in data['near_earth_objects'].values() for neo in dated_records ]\n",
        "\n",
        "def get_neo(id):\n",
        "    \"\"\" Return a NEO record for the given id \"\"\"\n",
        "    url = f'https://api.nasa.gov/neo/rest/v1/neo/{id}?api_key={API_KEY}'\n",
        "    response = requests.request(\"GET\", url, headers={}, data={})\n",
        "    return json.loads(response.text)\n",
        "\n",
        "week_start = '2023-01-15'\n",
        "neos = get_neos(week_start)\n",
        "assert len(neos) > 0, f'Oh oh!  No NEOs found for {week_start}'\n",
        "neo = get_neo(neos[-1]['id'])  # get the very latest NEO\n",
        "pprint(neo)"
      ],
      "metadata": {
        "pycharm": {
          "name": "#%%\n"
        },
        "ExecuteTime": {
          "end_time": "2024-01-04T04:11:12.889668Z",
          "start_time": "2024-01-04T04:10:54.383166Z"
        },
        "id": "KcT1ZBI5UeUx",
        "outputId": "3bc446d1-e06c-49ad-ec5f-1c0c97e8cba7",
        "colab": {
          "base_uri": "https://localhost:8080/",
          "height": 374
        }
      }
    },
    {
      "cell_type": "markdown",
      "source": [
        "## Exercise 1:  Define an Asteroid class\n",
        "\n",
        "Define a simple Asteroid class with some basic state variables for a single NEO.  Your Asteroid class should define at least 4 \"state variables:”\n",
        "\n",
        "    id\n",
        "    name\n",
        "    estimated_diameter (m)\n",
        "    is_potentially_hazardous (bool)\n",
        "\n",
        "Operations must include:\n",
        "* `__init__(self, ...)` method to initialize a new Asteroid object with specific data values\n",
        "* `__str__(self)`, and `__repr__(self)` methods that return nicely formatted string representations of the object.\n",
        "  \n",
        "OR...\n",
        "use a `@dataclass` and it will supply most of that boilerplate code for you!\n",
        "\n",
        "Write a little code to test your new class."
      ],
      "metadata": {
        "collapsed": false,
        "pycharm": {
          "name": "#%% md\n"
        },
        "id": "qJqUaUkqUeUy"
      }
    },
    {
      "cell_type": "code",
      "execution_count": null,
      "outputs": [],
      "source": [
        "# Ex.1 your code here\n",
        "class Asteroid:\n",
        "  def __init__(self,id,name,estimated_diameter_max,estimated_diameter_min,is_potentially_hazardous):\n",
        "      self.id = id\n",
        "      self.name = name\n",
        "      self.estimated_diameter_max = estimated_diameter_max\n",
        "      self.estimated_diameter_min = estimated_diameter_min\n",
        "      self.is_potentially_hazardous = is_potentially_hazardous\n",
        "  def __str__(self):\n",
        "      return f\"neo name:{self.name },id:{self.id}, max diameter:{self.estimated_diameter_max}, min diameter:{self.estimated_diameter_min}, dangerous:{self.is_potentially_hazardous}\"\n",
        "  @classmethod\n",
        "  def from_NEO(cls, neo_id):\n",
        "        data = get_neo(neo_id)\n",
        "        return cls(data['id'], data['designation'], data['estimated_diameter']['meters']['estimated_diameter_max'],data['estimated_diameter']['meters']['estimated_diameter_min'], data['is_potentially_hazardous_asteroid'])\n"
      ],
      "metadata": {
        "pycharm": {
          "name": "#%%\n"
        },
        "ExecuteTime": {
          "end_time": "2024-01-04T04:11:12.891665Z",
          "start_time": "2024-01-04T04:11:12.889274Z"
        },
        "id": "e5ALc1bLUeUz"
      }
    },
    {
      "cell_type": "markdown",
      "source": [
        "## Exercise 2: Factory method: Asteriod.from_NEO\n",
        "\n",
        "We want to be able to construct Asteroid objects easily from the record returned from the NEO API.  \n",
        "\n",
        "Add an \"object factory\" method to your class...   \n",
        "\n",
        "    @classmethod\n",
        "    from_NEO(cls, neo_id):\n",
        "        ...\n",
        "\n",
        "that takes the id for a single NEO, fetches the NEO record from API, constructs and returns an Asteroid object representing that NEO.\n",
        "This kind of method is called a “Factory” because it constructs an object from raw materials.\n",
        "\n",
        "Write a little code to test your new class."
      ],
      "metadata": {
        "collapsed": false,
        "pycharm": {
          "name": "#%% md\n"
        },
        "id": "cjQ-BIOCUeUz"
      }
    },
    {
      "cell_type": "code",
      "execution_count": null,
      "outputs": [],
      "source": [
        "# Ex. 2 your code here\n",
        "a1 = Asteroid.from_NEO('54339874')\n",
        "assert str(a1) == 'neo name:2023 BM1,id:54339874, max diameter:63.3928064522, min diameter:28.3501249023, dangerous:False'\n",
        "a1"
      ],
      "metadata": {
        "pycharm": {
          "name": "#%%\n"
        },
        "ExecuteTime": {
          "end_time": "2024-01-04T04:11:12.894705Z",
          "start_time": "2024-01-04T04:11:12.892046Z"
        },
        "id": "Pj3J92N5UeU0"
      }
    },
    {
      "cell_type": "markdown",
      "source": [
        "## Exercise 3: Define a CloseApproach class\n",
        "\n",
        "Each NEO record comes with a list of `close_approach_data`, where each record in this list represents a single “close approach” to another orbiting body.\n",
        "* Develop a class named `CloseApproach` to represent a single close approach record.\n",
        "* State variables are\n",
        "\n",
        "        neo (refrence to related NEO object)\n",
        "        orbiting body (str)\n",
        "        approach date (datetime object!)\n",
        "        miss distance (float - choose units, document it, and be consistent!)\n",
        "        relative velocity (ditto)\n",
        "  \n",
        "Define a \"Factory\" class method to construct a `CloseApproach` object from one close approach data record (a dictionary object).   \n",
        "This method takes a `neo` object as input for the NEO to which the close approach data belongs.\n",
        "Remember to parse the date/time string into a datetime object."
      ],
      "metadata": {
        "id": "DNRs7ynOYwYk"
      }
    },
    {
      "cell_type": "code",
      "source": [
        "class CloseApproach:\n",
        "    def __init__(self, neo, orbiting_body, approach_date, miss_distance, relative_velocity):\n",
        "        self.neo = neo\n",
        "        self.orbiting_body = orbiting_body\n",
        "        self.approach_date = approach_date\n",
        "        self.miss_distance = miss_distance\n",
        "        self.relative_velocity = relative_velocity\n",
        "    def __str__(self):\n",
        "      return f\"{self.neo} is a CloaseApproach class object\"\n",
        "    @classmethod\n",
        "    def fromCOPdata(cls,neo_id):\n",
        "      data = get_neo(neo_id)\n",
        "      cop_data = data['close_approach_data']\n",
        "      return cop_data\n",
        "\n",
        "cop_obj = CloseApproach.fromCOPdata('54339874')\n",
        "\n",
        "cop_obj"
      ],
      "metadata": {
        "id": "tiyXTDfnZAd0",
        "ExecuteTime": {
          "end_time": "2024-01-04T04:11:12.898030Z",
          "start_time": "2024-01-04T04:11:12.895465Z"
        }
      },
      "execution_count": null,
      "outputs": []
    },
    {
      "cell_type": "markdown",
      "source": [
        "## Exercise 4: Add list of CloseApproach objects to the Asteroid\n",
        "\n",
        "Every `Asteroid` should have a list of “close approaches”.\n",
        "But there is a catch-22 here because we need the `Asteroid` to construct the `CloseApproach` objects.\n",
        "Add an instance variable to your Asteroid class with a default value of an empty list:\n",
        "\n",
        "    ...\n",
        "    close_approaches:list = []\n",
        "    ...\n",
        "      \n",
        "In `from_NEO` factory, use a list comprehension to build the list of `CloseApproach` objects for the Asteroid instance, and then set the instance's `close_approaches` variable before returning it.  \n",
        "Setting the value of an object's instance variables from outside the class is generally frowned upon - this is why we make the factory a method of the class itself!\n",
        "\n",
        "Now add a method to `Asteroid` to return the `nearest_miss` `CloseApproach` object for the asteroic:\n",
        "\n",
        "    def nearest_miss(self):\n",
        "        ...\n",
        "\n",
        "Extend your test code to demonstrate these new features."
      ],
      "metadata": {
        "collapsed": false,
        "id": "Vn4LGLxqUeU1"
      }
    },
    {
      "cell_type": "code",
      "execution_count": null,
      "outputs": [],
      "source": [
        "# Ex. 4 your code here"
      ],
      "metadata": {
        "ExecuteTime": {
          "end_time": "2024-01-04T04:11:12.899780Z",
          "start_time": "2024-01-04T04:11:12.897929Z"
        },
        "id": "r3XYhgjVUeU2"
      }
    },
    {
      "cell_type": "markdown",
      "source": [
        "## Challenge - Take your skills to the next level...\n",
        "### Exercise 5: add one additional analysis\n",
        "\n",
        " With these data structures in place, we can now start answering all kinds of interesting questions about a single Asteroid or a set of Asteroids.  \n",
        "Here’s a couple ideas to try:\n",
        "\n",
        "* add a method to the Asteroid class, `closest_earth_approach`, that returns the CloseApproach object that represents the closest approach the Asteroid makes to Earth.\n",
        "\n",
        "* write a **function** named `most_dangerous_approach`, that takes a date range and returns a single “potentially hazardous” Asteroid object that makes the closest approach to Earth in within that range.  Your algorithm will ultimately need to:\n",
        "    * grab the list of NEO’s for the given date range;\n",
        "    * use a list comprehension to build the list of Asteroid objects for the NEO’s returned\n",
        "    * use a list comprehension to filter  potentially hazardous Asteroids only;\n",
        "    * use a list comprehension to map each Asteroid to its  closest_earth_approach\n",
        "    * apply Python’s min function to identify the Asteroid with the closest_earth_approach\n",
        "\n",
        "You may want to decompose some of these steps into smaller functions.\n",
        "* add a method to the Asteroid class, estimated_mass, that computes an estimate of the Asteroid’s mass based on its diameter.  This is a model – state your assumptions.\n",
        "* add a method to the CloseApproach class, impact_force,  that estimates the force of impact if the Asteroid hit the orbiting object.  Again, this is a model, state your assumptions."
      ],
      "metadata": {
        "collapsed": false,
        "id": "s1g4_KpWUeU2"
      }
    },
    {
      "cell_type": "code",
      "source": [
        "# Ex. 5 (challenge) your code here"
      ],
      "metadata": {
        "id": "Ds1YevErlzCe",
        "pycharm": {
          "name": "#%%\n"
        },
        "ExecuteTime": {
          "end_time": "2024-01-04T04:11:12.902837Z",
          "start_time": "2024-01-04T04:11:12.900180Z"
        }
      },
      "execution_count": null,
      "outputs": []
    }
  ]
}