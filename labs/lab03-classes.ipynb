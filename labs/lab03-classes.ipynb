{
  "nbformat": 4,
  "nbformat_minor": 0,
  "metadata": {
    "colab": {
      "name": "Lab2-NEO.ipynb",
      "provenance": [],
      "include_colab_link": true
    },
    "kernelspec": {
      "name": "python3",
      "language": "python",
      "display_name": "Python 3 (ipykernel)"
    },
    "language_info": {
      "name": "python"
    }
  },
  "cells": [
    {
      "cell_type": "markdown",
      "metadata": {
        "id": "view-in-github",
        "colab_type": "text"
      },
      "source": [
        "<a href=\"https://colab.research.google.com/github/apaleblueman/cap-comp215-personal/blob/main/labs/lab03-classes.ipynb\" target=\"_parent\"><img src=\"https://colab.research.google.com/assets/colab-badge.svg\" alt=\"Open In Colab\"/></a>"
      ]
    },
    {
      "cell_type": "markdown",
      "source": [
        "COMP 215 - LAB 3 Classes (NEO)\n",
        "----------------\n",
        "#### Name: Gurchetan Singh\n",
        "#### Date: 27 january 2024\n",
        "\n",
        "This lab exercise introduces `class` as a means of organizing related data and functions.\n",
        "\n",
        "**Building on new concepts from lab 2**:\n",
        "  * a `record` is a related collection of data, with fields for each data value\n",
        "  * an `API` is an \"Application Programmers Interface\" defining how a programmer interacts with a system.\n",
        "  * *f-string* simplifies string formatting operations\n",
        "\n",
        "**New Python Concepts**:\n",
        "  * the `class` keyword allows you define a new data `type`, with a set of operations on that data.\n",
        "  * a `dataclass` simplifies class definition for classes that primarily encapsulate a data structure.\n",
        "\n",
        "As usual, the first code cell simply imports all the modules we'll be using..."
      ],
      "metadata": {
        "id": "nbRPZPKZU5Pk"
      }
    },
    {
      "cell_type": "code",
      "execution_count": 117,
      "outputs": [],
      "source": [
        "import datetime, json, requests\n",
        "from pprint import pprint    # Pretty Print - built-in python function to nicely format data structures"
      ],
      "metadata": {
        "pycharm": {
          "name": "#%%\n"
        },
        "ExecuteTime": {
          "end_time": "2024-01-04T04:10:54.380220Z",
          "start_time": "2024-01-04T04:10:54.335677Z"
        },
        "id": "uhyVOEj4UeUw"
      }
    },
    {
      "cell_type": "markdown",
      "source": [
        "We'll continue working with [Near Earth Object](https://cneos.jpl.nasa.gov/) data\n",
        "> using NASA's API:  [https://api.nasa.gov/](https://api.nasa.gov/#NeoWS)\n",
        "\n",
        "Here's a brief review from Lab 2 on how to use it..."
      ],
      "metadata": {
        "collapsed": false,
        "pycharm": {
          "name": "#%% md\n"
        },
        "id": "gsPPue2zUeUw"
      }
    },
    {
      "cell_type": "markdown",
      "source": [
        "### Review: making a query\n",
        "\n",
        "Here's a query that gets the record for a single NEO that recently passed by."
      ],
      "metadata": {
        "collapsed": false,
        "pycharm": {
          "name": "#%% md\n"
        },
        "id": "o6uD9Lf-UeUx"
      }
    },
    {
      "cell_type": "code",
      "execution_count": 118,
      "outputs": [
        {
          "output_type": "stream",
          "name": "stdout",
          "text": [
            "138 Near Earth Objects found for week of 2023-01-27\n",
            "{'absolute_magnitude_h': 24.96,\n",
            " 'close_approach_data': [{'close_approach_date': '2023-01-29',\n",
            "                          'close_approach_date_full': '2023-Jan-29 16:17',\n",
            "                          'epoch_date_close_approach': 1675009020000,\n",
            "                          'miss_distance': {'astronomical': '0.0271846797',\n",
            "                                            'kilometers': '4066770.179752239',\n",
            "                                            'lunar': '10.5748404033',\n",
            "                                            'miles': '2526973.8123653382'},\n",
            "                          'orbiting_body': 'Earth',\n",
            "                          'relative_velocity': {'kilometers_per_hour': '128009.4965423953',\n",
            "                                                'kilometers_per_second': '35.558193484',\n",
            "                                                'miles_per_hour': '79540.1230043567'}}],\n",
            " 'designation': '2023 CF',\n",
            " 'estimated_diameter': {'feet': {'estimated_diameter_max': 198.6209386685,\n",
            "                                 'estimated_diameter_min': 88.8259841235},\n",
            "                        'kilometers': {'estimated_diameter_max': 0.0605396602,\n",
            "                                       'estimated_diameter_min': 0.0270741591},\n",
            "                        'meters': {'estimated_diameter_max': 60.5396601689,\n",
            "                                   'estimated_diameter_min': 27.0741590945},\n",
            "                        'miles': {'estimated_diameter_max': 0.0376175892,\n",
            "                                  'estimated_diameter_min': 0.0168230973}},\n",
            " 'id': '54340713',\n",
            " 'is_potentially_hazardous_asteroid': False,\n",
            " 'is_sentry_object': False,\n",
            " 'links': {'self': 'http://api.nasa.gov/neo/rest/v1/neo/54340713?api_key=XCTMti69BWbORNZFDrO1LyZOcs8qFlax8ZYcNHL6'},\n",
            " 'name': '(2023 CF)',\n",
            " 'nasa_jpl_url': 'https://ssd.jpl.nasa.gov/tools/sbdb_lookup.html#/?sstr=54340713',\n",
            " 'neo_reference_id': '54340713',\n",
            " 'orbital_data': {'aphelion_distance': '4.058458623604186',\n",
            "                  'ascending_node_longitude': '1.884831951112333',\n",
            "                  'data_arc_in_days': 2,\n",
            "                  'eccentricity': '.9314917407097867',\n",
            "                  'epoch_osculation': '2459976.5',\n",
            "                  'equinox': 'J2000',\n",
            "                  'first_observation_date': '2023-02-01',\n",
            "                  'inclination': '1.029368730169853',\n",
            "                  'jupiter_tisserand_invariant': '2.939',\n",
            "                  'last_observation_date': '2023-02-03',\n",
            "                  'mean_anomaly': '12.29343941769282',\n",
            "                  'mean_motion': '.3235949034922399',\n",
            "                  'minimum_orbit_intersection': '.00817812',\n",
            "                  'observations_used': 32,\n",
            "                  'orbit_class': {'orbit_class_description': 'Near-Earth '\n",
            "                                                             'asteroid orbits '\n",
            "                                                             'which cross the '\n",
            "                                                             'Earth’s orbit '\n",
            "                                                             'similar to that '\n",
            "                                                             'of 1862 Apollo',\n",
            "                                  'orbit_class_range': 'a (semi-major axis) > '\n",
            "                                                       '1.0 AU; q (perihelion) '\n",
            "                                                       '< 1.017 AU',\n",
            "                                  'orbit_class_type': 'APO'},\n",
            "                  'orbit_determination_date': '2023-02-04 04:49:29',\n",
            "                  'orbit_id': '2',\n",
            "                  'orbit_uncertainty': '9',\n",
            "                  'orbital_period': '1112.502070072414',\n",
            "                  'perihelion_argument': '347.8700036944321',\n",
            "                  'perihelion_distance': '.143949844487714',\n",
            "                  'perihelion_time': '2459938.509786665297',\n",
            "                  'semi_major_axis': '2.10120423404595'}}\n"
          ]
        }
      ],
      "source": [
        "API_KEY = 'XCTMti69BWbORNZFDrO1LyZOcs8qFlax8ZYcNHL6'\n",
        "\n",
        "def get_neos(start_date):\n",
        "    \"\"\" Return a list of NEO for the week starting at start_date \"\"\"\n",
        "    url = f'https://api.nasa.gov/neo/rest/v1/feed?start_date={start_date}&api_key={API_KEY}'\n",
        "    # Fetch last week's NEO feed\n",
        "    response = requests.request(\"GET\", url, headers={}, data={})\n",
        "    data = json.loads(response.text)\n",
        "    print(f'{data[\"element_count\"]} Near Earth Objects found for week of {start_date}')\n",
        "    return [neo for dated_records in data['near_earth_objects'].values() for neo in dated_records ]\n",
        "\n",
        "def get_neo(id):\n",
        "    \"\"\" Return a NEO record for the given id \"\"\"\n",
        "    url = f'https://api.nasa.gov/neo/rest/v1/neo/{id}?api_key={API_KEY}'\n",
        "    response = requests.request(\"GET\", url, headers={}, data={})\n",
        "    return json.loads(response.text)\n",
        "\n",
        "week_start = '2023-01-27'\n",
        "neos = get_neos(week_start)\n",
        "assert len(neos) > 0, f'Oh oh!  No NEOs found for {week_start}'\n",
        "neo = get_neo(neos[-1]['id'])  # get the very latest NEO\n",
        "pprint(neo)"
      ],
      "metadata": {
        "pycharm": {
          "name": "#%%\n"
        },
        "ExecuteTime": {
          "end_time": "2024-01-04T04:11:12.889668Z",
          "start_time": "2024-01-04T04:10:54.383166Z"
        },
        "id": "KcT1ZBI5UeUx",
        "outputId": "ca0cca0d-f78e-456d-fb6e-bf316c687156",
        "colab": {
          "base_uri": "https://localhost:8080/"
        }
      }
    },
    {
      "cell_type": "markdown",
      "source": [
        "## Exercise 1:  Define an Asteroid class\n",
        "\n",
        "Define a simple Asteroid class with some basic state variables for a single NEO.  Your Asteroid class should define at least 4 \"state variables:”\n",
        "\n",
        "    id\n",
        "    name\n",
        "    estimated_diameter (m)\n",
        "    is_potentially_hazardous (bool)\n",
        "\n",
        "Operations must include:\n",
        "* `__init__(self, ...)` method to initialize a new Asteroid object with specific data values\n",
        "* `__str__(self)`, and `__repr__(self)` methods that return nicely formatted string representations of the object.\n",
        "  \n",
        "OR...\n",
        "use a `@dataclass` and it will supply most of that boilerplate code for you!\n",
        "\n",
        "Write a little code to test your new class."
      ],
      "metadata": {
        "collapsed": false,
        "pycharm": {
          "name": "#%% md\n"
        },
        "id": "qJqUaUkqUeUy"
      }
    },
    {
      "cell_type": "code",
      "execution_count": 119,
      "outputs": [],
      "source": [
        "# Ex.1 your code here\n",
        "class Asteroid:\n",
        "  def __init__(self,id,name,estimated_diameter_max,estimated_diameter_min,is_potentially_hazardous):\n",
        "      self.id = id\n",
        "      self.name = name\n",
        "      self.estimated_diameter_max = estimated_diameter_max\n",
        "      self.estimated_diameter_min = estimated_diameter_min\n",
        "      self.is_potentially_hazardous = is_potentially_hazardous\n",
        "      self.close_approaches:list = []\n",
        "  def __str__(self):\n",
        "      return f\"neo name: {self.name}, id: {self.id}, max diameter: {self.estimated_diameter_max}, min diameter: {self.estimated_diameter_min}, dangerous: {self.is_potentially_hazardous}\"\n",
        "  @classmethod\n",
        "  def from_NEO(cls, neo_id):\n",
        "        \"\"\"Returns a NEO object given a neo id (refrence) and includes a list of close approaches of that object\"\"\"\n",
        "        data = get_neo(neo_id)\n",
        "        neo_object = cls(data['id'], data['designation'], data['estimated_diameter']['meters']['estimated_diameter_max'],data['estimated_diameter']['meters']['estimated_diameter_min'], data['is_potentially_hazardous_asteroid'])\n",
        "        #used chatGPT to understand how to use attribute assignment instead of using intermediate variables for list comprenhension\n",
        "        #in instance variable close_approaches list modification\n",
        "        neo_object.close_approaches = [CloseApproach.fromCOPdata(neo_object, i) for i in range(len(data['close_approach_data']))]\n",
        "\n",
        "        return neo_object\n",
        "\n"
      ],
      "metadata": {
        "pycharm": {
          "name": "#%%\n"
        },
        "ExecuteTime": {
          "end_time": "2024-01-04T04:11:12.891665Z",
          "start_time": "2024-01-04T04:11:12.889274Z"
        },
        "id": "e5ALc1bLUeUz"
      }
    },
    {
      "cell_type": "markdown",
      "source": [
        "## Exercise 2: Factory method: Asteriod.from_NEO\n",
        "\n",
        "We want to be able to construct Asteroid objects easily from the record returned from the NEO API.  \n",
        "\n",
        "Add an \"object factory\" method to your class...   \n",
        "\n",
        "    @classmethod\n",
        "    from_NEO(cls, neo_id):\n",
        "        ...\n",
        "\n",
        "that takes the id for a single NEO, fetches the NEO record from API, constructs and returns an Asteroid object representing that NEO.\n",
        "This kind of method is called a “Factory” because it constructs an object from raw materials.\n",
        "\n",
        "Write a little code to test your new class."
      ],
      "metadata": {
        "collapsed": false,
        "pycharm": {
          "name": "#%% md\n"
        },
        "id": "cjQ-BIOCUeUz"
      }
    },
    {
      "cell_type": "code",
      "execution_count": 120,
      "outputs": [
        {
          "output_type": "execute_result",
          "data": {
            "text/plain": [
              "\"54339874 is a CloaseApproach class object orbiting Earth with velocity of {'kilometers_per_second': '20.4193538659', 'kilometers_per_hour': '73509.6739172087', 'miles_per_hour': '45676.0526626122'} \""
            ],
            "application/vnd.google.colaboratory.intrinsic+json": {
              "type": "string"
            }
          },
          "metadata": {},
          "execution_count": 120
        }
      ],
      "source": [
        "# Ex. 2 your code here\n",
        "asteroid_object_1 = Asteroid.from_NEO('54339874')\n",
        "assert str(asteroid_object_1) == 'neo name: 2023 BM1, id: 54339874, max diameter: 63.3928064522, min diameter: 28.3501249023, dangerous: False'\n",
        "str(asteroid_object_1.close_approaches[0]) #testing custom __str__ method defined in Close approach class for a particular CloseApproachObject"
      ],
      "metadata": {
        "pycharm": {
          "name": "#%%\n"
        },
        "ExecuteTime": {
          "end_time": "2024-01-04T04:11:12.894705Z",
          "start_time": "2024-01-04T04:11:12.892046Z"
        },
        "id": "Pj3J92N5UeU0",
        "outputId": "75732b14-bf69-4745-d7f7-24c41e26b223",
        "colab": {
          "base_uri": "https://localhost:8080/",
          "height": 52
        }
      }
    },
    {
      "cell_type": "markdown",
      "source": [
        "## Exercise 3: Define a CloseApproach class\n",
        "\n",
        "Each NEO record comes with a list of `close_approach_data`, where each record in this list represents a single “close approach” to another orbiting body.\n",
        "* Develop a class named `CloseApproach` to represent a single close approach record.\n",
        "* State variables are\n",
        "\n",
        "        neo (refrence to related NEO object)\n",
        "        orbiting body (str)\n",
        "        approach date (datetime object!)\n",
        "        miss distance (float - choose units, document it, and be consistent!)\n",
        "        relative velocity (ditto)\n",
        "        \n",
        "\n",
        "  \n",
        "Define a \"Factory\" class method to construct a `CloseApproach` object from one close approach data record (a dictionary object).   \n",
        "This method takes a `neo` object as input for the NEO to which the close approach data belongs.\n",
        "Remember to parse the date/time string into a datetime object."
      ],
      "metadata": {
        "id": "DNRs7ynOYwYk"
      }
    },
    {
      "cell_type": "code",
      "source": [
        "class CloseApproach:\n",
        "    def __init__(self, neo, orbiting_body, approach_date, miss_distance, relative_velocity):\n",
        "        self.neo = neo\n",
        "        self.orbiting_body = str(orbiting_body)\n",
        "        self.approach_date = datetime.datetime.strptime(approach_date, '%Y-%m-%d')\n",
        "        self.miss_distance = float(miss_distance)\n",
        "        self.relative_velocity = relative_velocity\n",
        "\n",
        "    def __str__(self):\n",
        "      return f\"{self.neo} is a CloaseApproach class object orbiting {self.orbiting_body} with velocity of {self.relative_velocity} \"\n",
        "    @classmethod\n",
        "    def fromCOPdata(cls, neo_obj , index_val):\n",
        "              \"\"\"returns a close approach object with attributes given a neo object and index value of a close appraoch data record\"\"\"\n",
        "              neo_data = get_neo(neo_obj.id)['close_approach_data'][index_val]\n",
        "\n",
        "              return cls(neo_obj.id, neo_data['orbiting_body'],neo_data['close_approach_date'],neo_data['miss_distance']['kilometers'],neo_data['relative_velocity'])\n"
      ],
      "metadata": {
        "id": "tiyXTDfnZAd0",
        "ExecuteTime": {
          "end_time": "2024-01-04T04:11:12.898030Z",
          "start_time": "2024-01-04T04:11:12.895465Z"
        }
      },
      "execution_count": 121,
      "outputs": []
    },
    {
      "cell_type": "markdown",
      "source": [
        "## Exercise 4: Add list of CloseApproach objects to the Asteroid\n",
        "\n",
        "Every `Asteroid` should have a list of “close approaches”.\n",
        "But there is a catch-22 here because we need the `Asteroid` to construct the `CloseApproach` objects.\n",
        "Add an instance variable to your Asteroid class with a default value of an empty list:\n",
        "\n",
        "    ...\n",
        "    close_approaches:list = []\n",
        "    ...\n",
        "      \n",
        "In `from_NEO` factory, use a list comprehension to build the list of `CloseApproach` objects for the Asteroid instance, and then set the instance's `close_approaches` variable before returning it.  \n",
        "Setting the value of an object's instance variables from outside the class is generally frowned upon - this is why we make the factory a method of the class itself!\n",
        "\n",
        "Now add a method to `Asteroid` to return the `nearest_miss` `CloseApproach` object for the asteroic:\n",
        "\n",
        "    def nearest_miss(self):\n",
        "        ...\n",
        "\n",
        "Extend your test code to demonstrate these new features."
      ],
      "metadata": {
        "collapsed": false,
        "id": "Vn4LGLxqUeU1"
      }
    },
    {
      "cell_type": "code",
      "execution_count": 126,
      "outputs": [
        {
          "output_type": "execute_result",
          "data": {
            "text/plain": [
              "'neo name: 2023 CF, id: 54340713, max diameter: 60.5396601689, min diameter: 27.0741590945, dangerous: False'"
            ],
            "application/vnd.google.colaboratory.intrinsic+json": {
              "type": "string"
            }
          },
          "metadata": {},
          "execution_count": 126
        }
      ],
      "source": [
        "# Ex. 4 your code here\n",
        "my_neo_object = Asteroid.from_NEO(neo['id'])\n"
      ],
      "metadata": {
        "ExecuteTime": {
          "end_time": "2024-01-04T04:11:12.899780Z",
          "start_time": "2024-01-04T04:11:12.897929Z"
        },
        "id": "r3XYhgjVUeU2",
        "outputId": "ba74410c-c6bc-44d4-92eb-d5bd2852806b",
        "colab": {
          "base_uri": "https://localhost:8080/",
          "height": 35
        }
      }
    },
    {
      "cell_type": "markdown",
      "source": [
        "## Challenge - Take your skills to the next level...\n",
        "### Exercise 5: add one additional analysis\n",
        "\n",
        " With these data structures in place, we can now start answering all kinds of interesting questions about a single Asteroid or a set of Asteroids.  \n",
        "Here’s a couple ideas to try:\n",
        "\n",
        "* add a method to the Asteroid class, `closest_earth_approach`, that returns the CloseApproach object that represents the closest approach the Asteroid makes to Earth.\n",
        "\n",
        "* write a **function** named `most_dangerous_approach`, that takes a date range and returns a single “potentially hazardous” Asteroid object that makes the closest approach to Earth in within that range.  Your algorithm will ultimately need to:\n",
        "    * grab the list of NEO’s for the given date range;\n",
        "    * use a list comprehension to build the list of Asteroid objects for the NEO’s returned\n",
        "    * use a list comprehension to filter  potentially hazardous Asteroids only;\n",
        "    * use a list comprehension to map each Asteroid to its  closest_earth_approach\n",
        "    * apply Python’s min function to identify the Asteroid with the closest_earth_approach\n",
        "\n",
        "You may want to decompose some of these steps into smaller functions.\n",
        "* add a method to the Asteroid class, estimated_mass, that computes an estimate of the Asteroid’s mass based on its diameter.  This is a model – state your assumptions.\n",
        "* add a method to the CloseApproach class, impact_force,  that estimates the force of impact if the Asteroid hit the orbiting object.  Again, this is a model, state your assumptions."
      ],
      "metadata": {
        "collapsed": false,
        "id": "s1g4_KpWUeU2"
      }
    },
    {
      "cell_type": "code",
      "source": [
        "# Ex. 5 (challenge) your code here"
      ],
      "metadata": {
        "id": "Ds1YevErlzCe",
        "pycharm": {
          "name": "#%%\n"
        },
        "ExecuteTime": {
          "end_time": "2024-01-04T04:11:12.902837Z",
          "start_time": "2024-01-04T04:11:12.900180Z"
        }
      },
      "execution_count": null,
      "outputs": []
    }
  ]
}